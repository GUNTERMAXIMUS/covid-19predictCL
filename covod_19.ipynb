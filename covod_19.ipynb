{
  "nbformat": 4,
  "nbformat_minor": 0,
  "metadata": {
    "colab": {
      "name": "covod-19.ipynb",
      "provenance": [],
      "mount_file_id": "19Wjascml6vIg79-f7bOrsXDP2Gn_TKt-",
      "authorship_tag": "ABX9TyNTDo/Y5F5qWilH0j4X1bb5",
      "include_colab_link": true
    },
    "kernelspec": {
      "name": "python3",
      "display_name": "Python 3"
    },
    "accelerator": "GPU"
  },
  "cells": [
    {
      "cell_type": "markdown",
      "metadata": {
        "id": "view-in-github",
        "colab_type": "text"
      },
      "source": [
        "<a href=\"https://colab.research.google.com/github/GUNTERMAXIMUS/covid-19predictCL/blob/master/covod_19.ipynb\" target=\"_parent\"><img src=\"https://colab.research.google.com/assets/colab-badge.svg\" alt=\"Open In Colab\"/></a>"
      ]
    },
    {
      "cell_type": "code",
      "metadata": {
        "id": "WJTppp-YMRNV",
        "colab_type": "code",
        "outputId": "e6696d51-1ffd-450e-ddc8-21c550037fb7",
        "colab": {
          "base_uri": "https://localhost:8080/",
          "height": 34
        }
      },
      "source": [
        "try:\n",
        "  %tensorflow_version 2.x\n",
        "except OSError:\n",
        "  print(tf.__version__)\n",
        "finally:\n",
        "  import tensorflow as tf\n",
        "  from tensorflow.keras import Sequential\n",
        "  from tensorflow.keras.layers import Dense, LSTM, Dropout\n",
        "  from sklearn.preprocessing import MinMaxScaler\n",
        "  scaler = MinMaxScaler()\n",
        "  \n",
        "  import numpy as np\n",
        "  import pandas as pd\n",
        "  import matplotlib.pyplot as plt\n",
        "  \n",
        "  import requests as rq\n",
        "  import io\n",
        "  \n",
        "  print(f'TF version: {tf.__version__}')\n",
        "  \n",
        "#  from google.colab import drive\n",
        "#  drive.mount('/content/gdrive', force_remount = True, timeout_ms = 60000)\n"
      ],
      "execution_count": 1,
      "outputs": [
        {
          "output_type": "stream",
          "text": [
            "TF version: 2.2.0-rc2\n"
          ],
          "name": "stdout"
        }
      ]
    },
    {
      "cell_type": "code",
      "metadata": {
        "id": "tGILqt2UQhGw",
        "colab_type": "code",
        "colab": {}
      },
      "source": [
        "url = 'https://raw.githubusercontent.com/GUNTERMAXIMUS/covid-19predictCL/master/covid_19_data.csv'\n",
        "\n",
        "respond = rq.get(url).content\n",
        "\n",
        "df_data = pd.read_csv(io.StringIO(respond.decode('utf-8')), \n",
        "                      sep = ',', \n",
        "                      quotechar = '\"', \n",
        "                      usecols = [1, 3, 5, 6 , 7], \n",
        "                      encoding = 'utf-8')\n",
        "\n",
        "df_train = pd.read_csv(io.StringIO(respond.decode('utf-8')), \n",
        "                      sep = ',', \n",
        "                      quotechar = '\"', \n",
        "                      usecols = [1, 3, 5, 6 , 7], \n",
        "                      encoding = 'utf-8')"
      ],
      "execution_count": 0,
      "outputs": []
    },
    {
      "cell_type": "code",
      "metadata": {
        "id": "-1eiAJlDWK8z",
        "colab_type": "code",
        "outputId": "ed2d055d-fa69-43a6-9423-b46eb2df5be3",
        "colab": {
          "base_uri": "https://localhost:8080/",
          "height": 461
        }
      },
      "source": [
        "df = df_data[df_data['Country/Region'].str.contains('Chile')].dropna()\n",
        "df_train.dropna()\n",
        "print(df.isnull().any())\n",
        "df.tail(10)"
      ],
      "execution_count": 3,
      "outputs": [
        {
          "output_type": "stream",
          "text": [
            "ObservationDate    False\n",
            "Country/Region     False\n",
            "Confirmed          False\n",
            "Deaths             False\n",
            "Recovered          False\n",
            "dtype: bool\n"
          ],
          "name": "stdout"
        },
        {
          "output_type": "execute_result",
          "data": {
            "text/html": [
              "<div>\n",
              "<style scoped>\n",
              "    .dataframe tbody tr th:only-of-type {\n",
              "        vertical-align: middle;\n",
              "    }\n",
              "\n",
              "    .dataframe tbody tr th {\n",
              "        vertical-align: top;\n",
              "    }\n",
              "\n",
              "    .dataframe thead th {\n",
              "        text-align: right;\n",
              "    }\n",
              "</style>\n",
              "<table border=\"1\" class=\"dataframe\">\n",
              "  <thead>\n",
              "    <tr style=\"text-align: right;\">\n",
              "      <th></th>\n",
              "      <th>ObservationDate</th>\n",
              "      <th>Country/Region</th>\n",
              "      <th>Confirmed</th>\n",
              "      <th>Deaths</th>\n",
              "      <th>Recovered</th>\n",
              "    </tr>\n",
              "  </thead>\n",
              "  <tbody>\n",
              "    <tr>\n",
              "      <th>7945</th>\n",
              "      <td>03/23/2020</td>\n",
              "      <td>Chile</td>\n",
              "      <td>746.0</td>\n",
              "      <td>2.0</td>\n",
              "      <td>11.0</td>\n",
              "    </tr>\n",
              "    <tr>\n",
              "      <th>8240</th>\n",
              "      <td>03/24/2020</td>\n",
              "      <td>Chile</td>\n",
              "      <td>922.0</td>\n",
              "      <td>2.0</td>\n",
              "      <td>17.0</td>\n",
              "    </tr>\n",
              "    <tr>\n",
              "      <th>8539</th>\n",
              "      <td>03/25/2020</td>\n",
              "      <td>Chile</td>\n",
              "      <td>1142.0</td>\n",
              "      <td>3.0</td>\n",
              "      <td>22.0</td>\n",
              "    </tr>\n",
              "    <tr>\n",
              "      <th>8841</th>\n",
              "      <td>03/26/2020</td>\n",
              "      <td>Chile</td>\n",
              "      <td>1306.0</td>\n",
              "      <td>4.0</td>\n",
              "      <td>22.0</td>\n",
              "    </tr>\n",
              "    <tr>\n",
              "      <th>9148</th>\n",
              "      <td>03/27/2020</td>\n",
              "      <td>Chile</td>\n",
              "      <td>1610.0</td>\n",
              "      <td>5.0</td>\n",
              "      <td>43.0</td>\n",
              "    </tr>\n",
              "    <tr>\n",
              "      <th>9455</th>\n",
              "      <td>03/28/2020</td>\n",
              "      <td>Chile</td>\n",
              "      <td>1909.0</td>\n",
              "      <td>6.0</td>\n",
              "      <td>61.0</td>\n",
              "    </tr>\n",
              "    <tr>\n",
              "      <th>9766</th>\n",
              "      <td>03/29/2020</td>\n",
              "      <td>Chile</td>\n",
              "      <td>2139.0</td>\n",
              "      <td>7.0</td>\n",
              "      <td>75.0</td>\n",
              "    </tr>\n",
              "    <tr>\n",
              "      <th>10078</th>\n",
              "      <td>03/30/2020</td>\n",
              "      <td>Chile</td>\n",
              "      <td>2449.0</td>\n",
              "      <td>8.0</td>\n",
              "      <td>156.0</td>\n",
              "    </tr>\n",
              "    <tr>\n",
              "      <th>10391</th>\n",
              "      <td>03/31/2020</td>\n",
              "      <td>Chile</td>\n",
              "      <td>2738.0</td>\n",
              "      <td>12.0</td>\n",
              "      <td>156.0</td>\n",
              "    </tr>\n",
              "    <tr>\n",
              "      <th>10704</th>\n",
              "      <td>04/01/2020</td>\n",
              "      <td>Chile</td>\n",
              "      <td>3031.0</td>\n",
              "      <td>16.0</td>\n",
              "      <td>234.0</td>\n",
              "    </tr>\n",
              "  </tbody>\n",
              "</table>\n",
              "</div>"
            ],
            "text/plain": [
              "      ObservationDate Country/Region  Confirmed  Deaths  Recovered\n",
              "7945       03/23/2020          Chile      746.0     2.0       11.0\n",
              "8240       03/24/2020          Chile      922.0     2.0       17.0\n",
              "8539       03/25/2020          Chile     1142.0     3.0       22.0\n",
              "8841       03/26/2020          Chile     1306.0     4.0       22.0\n",
              "9148       03/27/2020          Chile     1610.0     5.0       43.0\n",
              "9455       03/28/2020          Chile     1909.0     6.0       61.0\n",
              "9766       03/29/2020          Chile     2139.0     7.0       75.0\n",
              "10078      03/30/2020          Chile     2449.0     8.0      156.0\n",
              "10391      03/31/2020          Chile     2738.0    12.0      156.0\n",
              "10704      04/01/2020          Chile     3031.0    16.0      234.0"
            ]
          },
          "metadata": {
            "tags": []
          },
          "execution_count": 3
        }
      ]
    },
    {
      "cell_type": "code",
      "metadata": {
        "id": "o9Jq9xRwddqf",
        "colab_type": "code",
        "outputId": "5c88470a-f0e9-4e48-e34a-4820415c285c",
        "colab": {
          "base_uri": "https://localhost:8080/",
          "height": 441
        }
      },
      "source": [
        "x = df.ObservationDate\n",
        "y = (df.Confirmed) - (df.Recovered + df.Deaths)\n",
        "\n",
        "plt.figure(figsize = (10, 6))\n",
        "plt.bar(x, y, label = 'Confirmed', color = 'blue')\n",
        "plt.bar(x, df.Recovered, label = 'Recovered', color = 'green')\n",
        "plt.bar(x, df.Deaths, label = 'Deaths', color = 'red')\n",
        "plt.stackplot(x, df.Confirmed, df.Recovered, df.Deaths)\n",
        "plt.xlabel('amount')\n",
        "plt.ylabel('time sequences')\n",
        "plt.legend(loc = 'upper left')\n",
        "plt.xticks(rotation = 'vertical')\n",
        "plt.tight_layout()\n",
        "plt.grid(True)\n",
        "\n",
        "plt.show()"
      ],
      "execution_count": 4,
      "outputs": [
        {
          "output_type": "display_data",
          "data": {
            "image/png": "[encoded data removed]",
            "text/plain": [
              "<Figure size 720x432 with 1 Axes>"
            ]
          },
          "metadata": {
            "tags": []
          }
        }
      ]
    },
    {
      "cell_type": "code",
      "metadata": {
        "id": "tID0tk-B1OSa",
        "colab_type": "code",
        "outputId": "b0e60339-605d-455f-c041-fcbdfc60eda1",
        "colab": {
          "base_uri": "https://localhost:8080/",
          "height": 136
        }
      },
      "source": [
        "train_data = (df_train.drop(columns=['ObservationDate', 'Country/Region'], axis = 1)) #.values\n",
        "train_data = (scaler.fit_transform(train_data))\n",
        "\n",
        "train_data"
      ],
      "execution_count": 10,
      "outputs": [
        {
          "output_type": "execute_result",
          "data": {
            "text/plain": [
              "array([[9.04371733e-06, 0.00000000e+00, 0.00000000e+00],\n",
              "       [1.26612043e-04, 0.00000000e+00, 0.00000000e+00],\n",
              "       [5.42623040e-05, 0.00000000e+00, 0.00000000e+00],\n",
              "       ...,\n",
              "       [4.52185866e-05, 0.00000000e+00, 0.00000000e+00],\n",
              "       [1.64595655e-03, 1.52033447e-04, 2.71610397e-03],\n",
              "       [1.13679527e-02, 7.60167237e-05, 1.93601364e-02]])"
            ]
          },
          "metadata": {
            "tags": []
          },
          "execution_count": 10
        }
      ]
    },
    {
      "cell_type": "code",
      "metadata": {
        "id": "Fj7ZT_Q3kfBP",
        "colab_type": "code",
        "colab": {
          "base_uri": "https://localhost:8080/",
          "height": 850
        },
        "outputId": "9a1a3c7f-ae93-43e4-f794-aa384a4a4723"
      },
      "source": [
        "days = 10\n",
        "x_train, y_train = [], []\n",
        "\n",
        "for i in range(days, train_data.shape[0]):\n",
        "  x_train.append(train_data[i - days: i])\n",
        "  y_train.append(train_data[i, 0]) # opening\n",
        "\n",
        "x_train = np.array(x_train), np.array(y_train)\n"
      ],
      "execution_count": 16,
      "outputs": [
        {
          "output_type": "execute_result",
          "data": {
            "text/plain": [
              "array([[[9.04371733e-06, 0.00000000e+00, 0.00000000e+00],\n",
              "        [1.26612043e-04, 0.00000000e+00, 0.00000000e+00],\n",
              "        [5.42623040e-05, 0.00000000e+00, 0.00000000e+00],\n",
              "        ...,\n",
              "        [9.04371733e-06, 0.00000000e+00, 0.00000000e+00],\n",
              "        [3.61748693e-05, 0.00000000e+00, 0.00000000e+00],\n",
              "        [9.04371733e-06, 0.00000000e+00, 0.00000000e+00]],\n",
              "\n",
              "       [[1.26612043e-04, 0.00000000e+00, 0.00000000e+00],\n",
              "        [5.42623040e-05, 0.00000000e+00, 0.00000000e+00],\n",
              "        [9.04371733e-06, 0.00000000e+00, 0.00000000e+00],\n",
              "        ...,\n",
              "        [3.61748693e-05, 0.00000000e+00, 0.00000000e+00],\n",
              "        [9.04371733e-06, 0.00000000e+00, 0.00000000e+00],\n",
              "        [0.00000000e+00, 0.00000000e+00, 0.00000000e+00]],\n",
              "\n",
              "       [[5.42623040e-05, 0.00000000e+00, 0.00000000e+00],\n",
              "        [9.04371733e-06, 0.00000000e+00, 0.00000000e+00],\n",
              "        [0.00000000e+00, 0.00000000e+00, 0.00000000e+00],\n",
              "        ...,\n",
              "        [9.04371733e-06, 0.00000000e+00, 0.00000000e+00],\n",
              "        [0.00000000e+00, 0.00000000e+00, 0.00000000e+00],\n",
              "        [4.52185866e-05, 0.00000000e+00, 0.00000000e+00]],\n",
              "\n",
              "       ...,\n",
              "\n",
              "       [[2.90303326e-03, 1.21626758e-03, 0.00000000e+00],\n",
              "        [8.75431838e-03, 3.04066895e-04, 5.41641664e-03],\n",
              "        [2.71311520e-04, 0.00000000e+00, 0.00000000e+00],\n",
              "        ...,\n",
              "        [1.40720242e-02, 2.05245154e-03, 0.00000000e+00],\n",
              "        [1.17568325e-03, 0.00000000e+00, 0.00000000e+00],\n",
              "        [6.87322517e-04, 2.28050171e-04, 1.15276506e-03]],\n",
              "\n",
              "       [[8.75431838e-03, 3.04066895e-04, 5.41641664e-03],\n",
              "        [2.71311520e-04, 0.00000000e+00, 0.00000000e+00],\n",
              "        [1.34118328e-02, 2.58456861e-03, 0.00000000e+00],\n",
              "        ...,\n",
              "        [1.17568325e-03, 0.00000000e+00, 0.00000000e+00],\n",
              "        [6.87322517e-04, 2.28050171e-04, 1.15276506e-03],\n",
              "        [4.52185866e-05, 0.00000000e+00, 0.00000000e+00]],\n",
              "\n",
              "       [[2.71311520e-04, 0.00000000e+00, 0.00000000e+00],\n",
              "        [1.34118328e-02, 2.58456861e-03, 0.00000000e+00],\n",
              "        [5.07171668e-02, 1.77879133e-02, 0.00000000e+00],\n",
              "        ...,\n",
              "        [6.87322517e-04, 2.28050171e-04, 1.15276506e-03],\n",
              "        [4.52185866e-05, 0.00000000e+00, 0.00000000e+00],\n",
              "        [1.64595655e-03, 1.52033447e-04, 2.71610397e-03]]])"
            ]
          },
          "metadata": {
            "tags": []
          },
          "execution_count": 16
        }
      ]
    },
    {
      "cell_type": "code",
      "metadata": {
        "id": "yBPAyZxo65Xf",
        "colab_type": "code",
        "outputId": "b9d1475f-5615-4edb-f103-812c08818fd8",
        "colab": {
          "base_uri": "https://localhost:8080/",
          "height": 547
        }
      },
      "source": [
        "model = Sequential()\n",
        "\n",
        "model.add(tf.keras.layers.LSTM(units = 60, activation = 'relu', return_sequences = True, input_shape = (x_train.shape[1], 3)))\n",
        "model.add(Dropout(rate = 0.2))\n",
        "\n",
        "model.add(tf.keras.layers.LSTM(units = 60, activation = 'relu', return_sequences = True))\n",
        "model.add(Dropout(rate = 0.2))\n",
        "\n",
        "model.add(tf.keras.layers.LSTM(units = 80, activation = 'relu', return_sequences = True))\n",
        "model.add(Dropout(rate = 0.2))\n",
        "\n",
        "model.add(tf.keras.layers.LSTM(units = 120, activation = 'relu'))\n",
        "model.add(Dropout(rate = 0.2))\n",
        "\n",
        "model.add(Dense(units = 1))\n",
        "\n",
        "model.compile(optimizer='adam', loss='mean_squared_error')\n",
        "model.summary()"
      ],
      "execution_count": 7,
      "outputs": [
        {
          "output_type": "stream",
          "text": [
            "WARNING:tensorflow:Layer lstm will not use cuDNN kernel since it doesn't meet the cuDNN kernel criteria. It will use generic GPU kernel as fallback when running on GPU\n",
            "WARNING:tensorflow:Layer lstm_1 will not use cuDNN kernel since it doesn't meet the cuDNN kernel criteria. It will use generic GPU kernel as fallback when running on GPU\n",
            "WARNING:tensorflow:Layer lstm_2 will not use cuDNN kernel since it doesn't meet the cuDNN kernel criteria. It will use generic GPU kernel as fallback when running on GPU\n",
            "WARNING:tensorflow:Layer lstm_3 will not use cuDNN kernel since it doesn't meet the cuDNN kernel criteria. It will use generic GPU kernel as fallback when running on GPU\n",
            "Model: \"sequential\"\n",
            "_________________________________________________________________\n",
            "Layer (type)                 Output Shape              Param #   \n",
            "=================================================================\n",
            "lstm (LSTM)                  (None, 10, 60)            15360     \n",
            "_________________________________________________________________\n",
            "dropout (Dropout)            (None, 10, 60)            0         \n",
            "_________________________________________________________________\n",
            "lstm_1 (LSTM)                (None, 10, 60)            29040     \n",
            "_________________________________________________________________\n",
            "dropout_1 (Dropout)          (None, 10, 60)            0         \n",
            "_________________________________________________________________\n",
            "lstm_2 (LSTM)                (None, 10, 80)            45120     \n",
            "_________________________________________________________________\n",
            "dropout_2 (Dropout)          (None, 10, 80)            0         \n",
            "_________________________________________________________________\n",
            "lstm_3 (LSTM)                (None, 120)               96480     \n",
            "_________________________________________________________________\n",
            "dropout_3 (Dropout)          (None, 120)               0         \n",
            "_________________________________________________________________\n",
            "dense (Dense)                (None, 1)                 121       \n",
            "=================================================================\n",
            "Total params: 186,121\n",
            "Trainable params: 186,121\n",
            "Non-trainable params: 0\n",
            "_________________________________________________________________\n"
          ],
          "name": "stdout"
        }
      ]
    },
    {
      "cell_type": "code",
      "metadata": {
        "id": "taBvxjSh9f5T",
        "colab_type": "code",
        "outputId": "e7224f90-b8e2-4f75-849e-066703831c14",
        "colab": {
          "base_uri": "https://localhost:8080/",
          "height": 425
        }
      },
      "source": [
        "modelFit = model.fit(x_train, y_train, epochs = 12, batch_size = 32)"
      ],
      "execution_count": 11,
      "outputs": [
        {
          "output_type": "stream",
          "text": [
            "Epoch 1/12\n",
            "343/343 [==============================] - 27s 78ms/step - loss: 0.0035\n",
            "Epoch 2/12\n",
            "343/343 [==============================] - 23s 68ms/step - loss: 0.0034\n",
            "Epoch 3/12\n",
            "343/343 [==============================] - 23s 68ms/step - loss: 0.0034\n",
            "Epoch 4/12\n",
            "343/343 [==============================] - 23s 66ms/step - loss: 0.0034\n",
            "Epoch 5/12\n",
            "343/343 [==============================] - 23s 68ms/step - loss: 0.0034\n",
            "Epoch 6/12\n",
            "343/343 [==============================] - 23s 67ms/step - loss: 0.0034\n",
            "Epoch 7/12\n",
            "343/343 [==============================] - 23s 68ms/step - loss: 0.0034\n",
            "Epoch 8/12\n",
            "343/343 [==============================] - 24s 69ms/step - loss: 0.0033\n",
            "Epoch 9/12\n",
            "343/343 [==============================] - 23s 67ms/step - loss: 0.0033\n",
            "Epoch 10/12\n",
            "343/343 [==============================] - 23s 67ms/step - loss: 0.0032\n",
            "Epoch 11/12\n",
            "343/343 [==============================] - 23s 67ms/step - loss: 0.0032\n",
            "Epoch 12/12\n",
            "343/343 [==============================] - 23s 67ms/step - loss: 0.0034\n"
          ],
          "name": "stdout"
        }
      ]
    },
    {
      "cell_type": "code",
      "metadata": {
        "id": "0aDNFczj-LAw",
        "colab_type": "code",
        "outputId": "7b54160f-6815-47fb-fc7d-8a2006c33c89",
        "colab": {
          "base_uri": "https://localhost:8080/",
          "height": 544
        }
      },
      "source": [
        "test_data = df.drop(columns = ['ObservationDate', 'Country/Region'], axis = 1)\n",
        "print(test_data)\n",
        "\n",
        "test_data = scaler.transform(test_data)\n",
        "\n",
        "x_test, y_test = [], []\n",
        "for i in range(10, test_data.shape[0]):\n",
        "  x_test.append(test_data[i-10:i])\n",
        "  y_test.append(test_data[i, 0])\n",
        "x_test, y_test = np.array(x_test), np.array(y_test)\n"
      ],
      "execution_count": 12,
      "outputs": [
        {
          "output_type": "stream",
          "text": [
            "       Confirmed  Deaths  Recovered\n",
            "3198         1.0     0.0        0.0\n",
            "3357         1.0     0.0        0.0\n",
            "3487         4.0     0.0        0.0\n",
            "3670         4.0     0.0        0.0\n",
            "3875         4.0     0.0        0.0\n",
            "4093         8.0     0.0        0.0\n",
            "4351         8.0     0.0        0.0\n",
            "4612        13.0     0.0        0.0\n",
            "4804        23.0     0.0        0.0\n",
            "5028        23.0     0.0        0.0\n",
            "5282        43.0     0.0        0.0\n",
            "5469        61.0     0.0        0.0\n",
            "5721        74.0     0.0        0.0\n",
            "5950       155.0     0.0        0.0\n",
            "6219       201.0     0.0        0.0\n",
            "6496       238.0     0.0        0.0\n",
            "6792       238.0     0.0        0.0\n",
            "7062       434.0     0.0        6.0\n",
            "7358       537.0     0.0        6.0\n",
            "7646       632.0     1.0        8.0\n",
            "7945       746.0     2.0       11.0\n",
            "8240       922.0     2.0       17.0\n",
            "8539      1142.0     3.0       22.0\n",
            "8841      1306.0     4.0       22.0\n",
            "9148      1610.0     5.0       43.0\n",
            "9455      1909.0     6.0       61.0\n",
            "9766      2139.0     7.0       75.0\n",
            "10078     2449.0     8.0      156.0\n",
            "10391     2738.0    12.0      156.0\n",
            "10704     3031.0    16.0      234.0\n"
          ],
          "name": "stdout"
        }
      ]
    },
    {
      "cell_type": "code",
      "metadata": {
        "id": "8fCXDI_YAWjZ",
        "colab_type": "code",
        "colab": {}
      },
      "source": [
        "predict = model.predict(x_test)\n",
        "scale = 1 / float(scaler.scale_[0])\n",
        "predict = predict * scale"
      ],
      "execution_count": 0,
      "outputs": []
    },
    {
      "cell_type": "code",
      "metadata": {
        "id": "9lQS8_DjCuZp",
        "colab_type": "code",
        "outputId": "b5dbfcdf-38c8-471e-b3ac-b7f4a8e3b605",
        "colab": {
          "base_uri": "https://localhost:8080/",
          "height": 389
        }
      },
      "source": [
        "plt.figure(figsize = (10, 6))\n",
        "plt.bar(x[10:], y_test, label = 'Actual', color = 'red')\n",
        "plt.plot(x[10:], predict, label = 'Prediction', color = 'green')\n",
        "plt.xlabel('Time_Sequence')\n",
        "plt.ylabel('Amounts')\n",
        "plt.legend(loc = 'upper right')\n",
        "plt.show()"
      ],
      "execution_count": 14,
      "outputs": [
        {
          "output_type": "display_data",
          "data": {
            "image/png": "[encoded data removed]",
            "text/plain": [
              "<Figure size 720x432 with 1 Axes>"
            ]
          },
          "metadata": {
            "tags": []
          }
        }
      ]
    }
  ]
}