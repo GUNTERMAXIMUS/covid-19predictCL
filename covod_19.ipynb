{
  "nbformat": 4,
  "nbformat_minor": 0,
  "metadata": {
    "colab": {
      "name": "covod-19.ipynb",
      "provenance": [],
      "mount_file_id": "19Wjascml6vIg79-f7bOrsXDP2Gn_TKt-",
      "authorship_tag": "ABX9TyOFkSld1FOq0uTB9uv30I1x",
      "include_colab_link": true
    },
    "kernelspec": {
      "name": "python3",
      "display_name": "Python 3"
    }
  },
  "cells": [
    {
      "cell_type": "markdown",
      "metadata": {
        "id": "view-in-github",
        "colab_type": "text"
      },
      "source": [
        "<a href=\"https://colab.research.google.com/github/GUNTERMAXIMUS/covid-19predictCL/blob/master/covod_19.ipynb\" target=\"_parent\"><img src=\"https://colab.research.google.com/assets/colab-badge.svg\" alt=\"Open In Colab\"/></a>"
      ]
    },
    {
      "cell_type": "code",
      "metadata": {
        "id": "WJTppp-YMRNV",
        "colab_type": "code",
        "colab": {
          "base_uri": "https://localhost:8080/",
          "height": 34
        },
        "outputId": "9f75ae40-481e-4241-9bdc-3337acfcad2f"
      },
      "source": [
        "try:\n",
        "  %tensorflow_version 2.x\n",
        "  import tensorflow as tf\n",
        "  from tensorflow import keras\n",
        "except OSError:\n",
        "  print(tf.__version__)\n",
        "finally:\n",
        "  import numpy as np\n",
        "  import pandas as pd\n",
        "  import matplotlib.pyplot as plt\n",
        "  print(tf.__version__)\n",
        "  import requests as rq\n",
        "  import io\n",
        "#  from google.colab import drive\n",
        "#  drive.mount('/content/gdrive', force_remount = True, timeout_ms = 60000)\n"
      ],
      "execution_count": 4,
      "outputs": [
        {
          "output_type": "stream",
          "text": [
            "2.1.0\n"
          ],
          "name": "stdout"
        }
      ]
    },
    {
      "cell_type": "code",
      "metadata": {
        "id": "tGILqt2UQhGw",
        "colab_type": "code",
        "colab": {}
      },
      "source": [
        "url = 'https://raw.githubusercontent.com/GUNTERMAXIMUS/covid-19predictCL/master/covid_19_data.csv'\n",
        "respond = rq.get(url).content\n",
        "\n",
        "df_data = pd.read_csv(io.StringIO(respond.decode('utf-8')), \n",
        "                      sep = ',', \n",
        "                      quotechar = '\"', \n",
        "                      usecols = [1, 3, 5, 6 , 7], \n",
        "                      encoding = 'utf-8')"
      ],
      "execution_count": 0,
      "outputs": []
    },
    {
      "cell_type": "code",
      "metadata": {
        "id": "-1eiAJlDWK8z",
        "colab_type": "code",
        "colab": {}
      },
      "source": [
        "df = df_data[df_data['Country/Region'].str.contains('Chile')]\n",
        "print(df.isnull().any())\n",
        "df.head(10)"
      ],
      "execution_count": 0,
      "outputs": []
    },
    {
      "cell_type": "code",
      "metadata": {
        "id": "o9Jq9xRwddqf",
        "colab_type": "code",
        "colab": {}
      },
      "source": [
        "x = df.ObservationDate\n",
        "\n",
        "plt.figure(figsize = (10, 6))\n",
        "plt.bar(x, (df.Confirmed) - (df.Recovered + df.Deaths), label = 'Confirmed', color = 'blue')\n",
        "plt.bar(x, df.Recovered, label = 'Recovered', color = 'green')\n",
        "plt.bar(x, df.Deaths, label = 'Deaths', color = 'red')\n",
        "plt.stackplot(x, df.Confirmed, df.Recovered, df.Deaths)\n",
        "plt.xlabel('amount')\n",
        "plt.ylabel('time sequences')\n",
        "plt.legend(loc = 'upper left')\n",
        "plt.xticks(rotation = 'vertical')\n",
        "plt.tight_layout()\n",
        "plt.grid(True)\n",
        "\n",
        "plt.show()"
      ],
      "execution_count": 0,
      "outputs": []
    }
  ]
}