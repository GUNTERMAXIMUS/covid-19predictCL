{
  "nbformat": 4,
  "nbformat_minor": 0,
  "metadata": {
    "colab": {
      "name": "covod-19-2.ipynb",
      "provenance": [],
      "mount_file_id": "19Wjascml6vIg79-f7bOrsXDP2Gn_TKt-",
      "authorship_tag": "ABX9TyN4I31TdyWsFvg3yvQmIYxR",
      "include_colab_link": true
    },
    "kernelspec": {
      "name": "python3",
      "display_name": "Python 3"
    },
    "accelerator": "GPU"
  },
  "cells": [
    {
      "cell_type": "markdown",
      "metadata": {
        "id": "view-in-github",
        "colab_type": "text"
      },
      "source": [
        "<a href=\"https://colab.research.google.com/github/GUNTERMAXIMUS/covid-19predictCL/blob/master/covod_19_2.ipynb\" target=\"_parent\"><img src=\"https://colab.research.google.com/assets/colab-badge.svg\" alt=\"Open In Colab\"/></a>"
      ]
    },
    {
      "cell_type": "code",
      "metadata": {
        "id": "WJTppp-YMRNV",
        "colab_type": "code",
        "outputId": "30a98d15-c699-47af-f23d-6c3ab7296e6d",
        "colab": {
          "base_uri": "https://localhost:8080/",
          "height": 34
        }
      },
      "source": [
        "try:\n",
        "  %tensorflow_version 2.x\n",
        "except OSError:\n",
        "  print(tf.__version__)\n",
        "finally:\n",
        "  import tensorflow as tf\n",
        "  from tensorflow.keras import Sequential\n",
        "  from tensorflow.keras.layers import Dense, LSTM, Dropout\n",
        "  from sklearn.preprocessing import MinMaxScaler\n",
        "  scaler = MinMaxScaler()\n",
        "  \n",
        "  import numpy as np\n",
        "  import pandas as pd\n",
        "  import matplotlib.pyplot as plt\n",
        "  \n",
        "  import requests as rq\n",
        "  import io\n",
        "  \n",
        "  print(f'TF version: {tf.__version__}')\n",
        "  \n",
        "#  from google.colab import drive\n",
        "#  drive.mount('/content/gdrive', force_remount = True, timeout_ms = 60000)\n"
      ],
      "execution_count": 1,
      "outputs": [
        {
          "output_type": "stream",
          "text": [
            "TF version: 2.2.0-rc2\n"
          ],
          "name": "stdout"
        }
      ]
    },
    {
      "cell_type": "code",
      "metadata": {
        "id": "tGILqt2UQhGw",
        "colab_type": "code",
        "colab": {}
      },
      "source": [
        "url = 'https://raw.githubusercontent.com/GUNTERMAXIMUS/covid-19predictCL/master/covid_19_data.csv'\n",
        "\n",
        "respond = rq.get(url).content\n",
        "\n",
        "df_data = pd.read_csv(io.StringIO(respond.decode('utf-8')), \n",
        "                      sep = ',', \n",
        "                      quotechar = '\"', \n",
        "                      usecols = [1, 3, 5, 6 , 7],\n",
        "                      encoding = 'utf-8'\n",
        "                      )\n",
        "\n",
        "df_train = pd.read_csv(io.StringIO(respond.decode('utf-8')), \n",
        "                      sep = ',', \n",
        "                      quotechar = '\"', \n",
        "                      usecols = [1, 3, 5, 6 , 7], \n",
        "                      encoding = 'utf-8'\n",
        "                      )"
      ],
      "execution_count": 0,
      "outputs": []
    },
    {
      "cell_type": "code",
      "metadata": {
        "id": "-1eiAJlDWK8z",
        "colab_type": "code",
        "outputId": "b1c08c60-1959-44cb-ec91-ce7c944b9e90",
        "colab": {
          "base_uri": "https://localhost:8080/",
          "height": 461
        }
      },
      "source": [
        "df = df_data[df_data['Country/Region'].str.contains('Chile')].dropna()\n",
        "df_train.dropna()\n",
        "print(df.isnull().any())\n",
        "df.tail(10)"
      ],
      "execution_count": 3,
      "outputs": [
        {
          "output_type": "stream",
          "text": [
            "ObservationDate    False\n",
            "Country/Region     False\n",
            "Confirmed          False\n",
            "Deaths             False\n",
            "Recovered          False\n",
            "dtype: bool\n"
          ],
          "name": "stdout"
        },
        {
          "output_type": "execute_result",
          "data": {
            "text/html": [
              "<div>\n",
              "<style scoped>\n",
              "    .dataframe tbody tr th:only-of-type {\n",
              "        vertical-align: middle;\n",
              "    }\n",
              "\n",
              "    .dataframe tbody tr th {\n",
              "        vertical-align: top;\n",
              "    }\n",
              "\n",
              "    .dataframe thead th {\n",
              "        text-align: right;\n",
              "    }\n",
              "</style>\n",
              "<table border=\"1\" class=\"dataframe\">\n",
              "  <thead>\n",
              "    <tr style=\"text-align: right;\">\n",
              "      <th></th>\n",
              "      <th>ObservationDate</th>\n",
              "      <th>Country/Region</th>\n",
              "      <th>Confirmed</th>\n",
              "      <th>Deaths</th>\n",
              "      <th>Recovered</th>\n",
              "    </tr>\n",
              "  </thead>\n",
              "  <tbody>\n",
              "    <tr>\n",
              "      <th>10078</th>\n",
              "      <td>03/30/2020</td>\n",
              "      <td>Chile</td>\n",
              "      <td>2449.0</td>\n",
              "      <td>8.0</td>\n",
              "      <td>156.0</td>\n",
              "    </tr>\n",
              "    <tr>\n",
              "      <th>10391</th>\n",
              "      <td>03/31/2020</td>\n",
              "      <td>Chile</td>\n",
              "      <td>2738.0</td>\n",
              "      <td>12.0</td>\n",
              "      <td>156.0</td>\n",
              "    </tr>\n",
              "    <tr>\n",
              "      <th>10704</th>\n",
              "      <td>04/01/2020</td>\n",
              "      <td>Chile</td>\n",
              "      <td>3031.0</td>\n",
              "      <td>16.0</td>\n",
              "      <td>234.0</td>\n",
              "    </tr>\n",
              "    <tr>\n",
              "      <th>11017</th>\n",
              "      <td>04/02/2020</td>\n",
              "      <td>Chile</td>\n",
              "      <td>3404.0</td>\n",
              "      <td>18.0</td>\n",
              "      <td>335.0</td>\n",
              "    </tr>\n",
              "    <tr>\n",
              "      <th>11332</th>\n",
              "      <td>04/03/2020</td>\n",
              "      <td>Chile</td>\n",
              "      <td>3737.0</td>\n",
              "      <td>22.0</td>\n",
              "      <td>427.0</td>\n",
              "    </tr>\n",
              "    <tr>\n",
              "      <th>11647</th>\n",
              "      <td>04/04/2020</td>\n",
              "      <td>Chile</td>\n",
              "      <td>4161.0</td>\n",
              "      <td>27.0</td>\n",
              "      <td>528.0</td>\n",
              "    </tr>\n",
              "    <tr>\n",
              "      <th>11963</th>\n",
              "      <td>04/05/2020</td>\n",
              "      <td>Chile</td>\n",
              "      <td>4471.0</td>\n",
              "      <td>34.0</td>\n",
              "      <td>618.0</td>\n",
              "    </tr>\n",
              "    <tr>\n",
              "      <th>12282</th>\n",
              "      <td>04/06/2020</td>\n",
              "      <td>Chile</td>\n",
              "      <td>4815.0</td>\n",
              "      <td>37.0</td>\n",
              "      <td>728.0</td>\n",
              "    </tr>\n",
              "    <tr>\n",
              "      <th>12602</th>\n",
              "      <td>04/07/2020</td>\n",
              "      <td>Chile</td>\n",
              "      <td>5116.0</td>\n",
              "      <td>43.0</td>\n",
              "      <td>898.0</td>\n",
              "    </tr>\n",
              "    <tr>\n",
              "      <th>12922</th>\n",
              "      <td>04/08/2020</td>\n",
              "      <td>Chile</td>\n",
              "      <td>5546.0</td>\n",
              "      <td>48.0</td>\n",
              "      <td>1115.0</td>\n",
              "    </tr>\n",
              "  </tbody>\n",
              "</table>\n",
              "</div>"
            ],
            "text/plain": [
              "      ObservationDate Country/Region  Confirmed  Deaths  Recovered\n",
              "10078      03/30/2020          Chile     2449.0     8.0      156.0\n",
              "10391      03/31/2020          Chile     2738.0    12.0      156.0\n",
              "10704      04/01/2020          Chile     3031.0    16.0      234.0\n",
              "11017      04/02/2020          Chile     3404.0    18.0      335.0\n",
              "11332      04/03/2020          Chile     3737.0    22.0      427.0\n",
              "11647      04/04/2020          Chile     4161.0    27.0      528.0\n",
              "11963      04/05/2020          Chile     4471.0    34.0      618.0\n",
              "12282      04/06/2020          Chile     4815.0    37.0      728.0\n",
              "12602      04/07/2020          Chile     5116.0    43.0      898.0\n",
              "12922      04/08/2020          Chile     5546.0    48.0     1115.0"
            ]
          },
          "metadata": {
            "tags": []
          },
          "execution_count": 3
        }
      ]
    },
    {
      "cell_type": "code",
      "metadata": {
        "id": "4Zut-VFAxEkj",
        "colab_type": "code",
        "outputId": "fe60ead4-07af-41c2-e504-a71054cdbb12",
        "colab": {
          "base_uri": "https://localhost:8080/",
          "height": 34
        }
      },
      "source": [
        "gr = np.array((df.Confirmed) - (df.Recovered + df.Deaths))\n",
        "growth_rate = ((gr[-1] - gr[-2]) / gr[-2]) * 100\n",
        "growth_rate"
      ],
      "execution_count": 4,
      "outputs": [
        {
          "output_type": "execute_result",
          "data": {
            "text/plain": [
              "4.982035928143713"
            ]
          },
          "metadata": {
            "tags": []
          },
          "execution_count": 4
        }
      ]
    },
    {
      "cell_type": "code",
      "metadata": {
        "id": "o9Jq9xRwddqf",
        "colab_type": "code",
        "outputId": "10403b53-85fc-47dd-af05-41f9af6f8f9d",
        "colab": {
          "base_uri": "https://localhost:8080/",
          "height": 441
        }
      },
      "source": [
        "x = df.ObservationDate\n",
        "y = (df.Confirmed) - (df.Recovered + df.Deaths)\n",
        "\n",
        "plt.figure(figsize = (10, 6))\n",
        "plt.bar(x, y, label = 'Confirmed', color = 'blue')\n",
        "plt.bar(x, df.Recovered, label = 'Recovered', color = 'green')\n",
        "plt.bar(x, df.Deaths, label = 'Deaths', color = 'red')\n",
        "#plt.stackplot(x, df.Confirmed, df.Recovered, df.Deaths)\n",
        "plt.xlabel('amount', )\n",
        "plt.ylabel('time sequences')\n",
        "plt.legend(loc = 'upper left')\n",
        "plt.xticks(rotation = 'vertical')\n",
        "plt.tight_layout()\n",
        "plt.grid(True)\n",
        "\n",
        "plt.show()"
      ],
      "execution_count": 5,
      "outputs": [
        {
          "output_type": "display_data",
          "data": {
            "image/png": "[encoded data removed]",
            "text/plain": [
              "<Figure size 720x432 with 1 Axes>"
            ]
          },
          "metadata": {
            "tags": []
          }
        }
      ]
    },
    {
      "cell_type": "code",
      "metadata": {
        "id": "tID0tk-B1OSa",
        "colab_type": "code",
        "colab": {}
      },
      "source": [
        "dates = df.ObservationDate\n",
        "confirmed = np.array([int(i) for i in y]).reshape(-1, 1)\n",
        "deaths = np.array([int(i) for i in df.Deaths]).reshape(-1, 1)\n",
        "recovered = np.array([int(i) for i in df.Recovered]).reshape(-1, 1)\n",
        "mortality_rate = np.array(df['Deaths'].tail(1) / df['Confirmed'].tail(1).sum()).reshape(-1, 1)\n",
        "\n",
        "confirmed_total = df.Confirmed.tail(1)\n",
        "\n",
        "days = np.array([i for i in range(len(dates))]).reshape(-1, 1)\n",
        "deaths_total = np.array(df.Deaths.tail(1)).reshape(-1, 1)\n",
        "recovered_total = np.array(df.Recovered.tail(1)).reshape(-1, 1)"
      ],
      "execution_count": 0,
      "outputs": []
    },
    {
      "cell_type": "code",
      "metadata": {
        "id": "2FCZrYvW8s1f",
        "colab_type": "code",
        "outputId": "99622600-4330-4900-ecf5-f69529f4de8d",
        "colab": {
          "base_uri": "https://localhost:8080/",
          "height": 34
        }
      },
      "source": [
        "mortality_rate = ((df.Deaths.tail(1) / df.Confirmed.tail(1)).sum()) * 100\n",
        "print(f'Mortality rate: {mortality_rate} %')"
      ],
      "execution_count": 7,
      "outputs": [
        {
          "output_type": "stream",
          "text": [
            "Mortality rate: 0.865488640461594 %\n"
          ],
          "name": "stdout"
        }
      ]
    },
    {
      "cell_type": "code",
      "metadata": {
        "id": "8xUoFd-rvVzy",
        "colab_type": "code",
        "colab": {}
      },
      "source": [
        "days_future = 30\n",
        "future_forecast_days = np.array([i for i in range(len(dates) + days_future)]).reshape(-1, 1)\n",
        "adjusted_dates = future_forecast_days[:-30]"
      ],
      "execution_count": 0,
      "outputs": []
    },
    {
      "cell_type": "code",
      "metadata": {
        "id": "magta0oUz5eL",
        "colab_type": "code",
        "colab": {}
      },
      "source": [
        "# convert integers into date time for visualization\n",
        "import datetime\n",
        "\n",
        "start_date = datetime.datetime.strptime('03/03/2020', '%m/%d/%Y')\n",
        "future_forecaste_dates = []\n",
        "\n",
        "for i in range(len(future_forecast_days)):\n",
        "  future_forecaste_dates.append((start_date + datetime.timedelta(days=i)).strftime('%m/%d/%Y'))"
      ],
      "execution_count": 0,
      "outputs": []
    },
    {
      "cell_type": "code",
      "metadata": {
        "colab_type": "code",
        "id": "Gb3WFM70-WuV",
        "colab": {}
      },
      "source": [
        "from sklearn.model_selection import RandomizedSearchCV, train_test_split\n",
        "from sklearn.svm import SVR\n",
        "from sklearn.metrics import mean_squared_error, mean_absolute_error\n",
        "import operator"
      ],
      "execution_count": 0,
      "outputs": []
    },
    {
      "cell_type": "code",
      "metadata": {
        "id": "kNCyRJIPAMP0",
        "colab_type": "code",
        "colab": {}
      },
      "source": [
        "kernel = ['poly', 'sigmoid', 'rbf']\n",
        "c = [0.01, 0.1, 1, 10]\n",
        "gamma = [0.01, 0.1, 1]\n",
        "epsilon = [0.01, 0.1, 1]\n",
        "shrinking = [True, False]\n",
        "svm_grid = {'kernel':kernel, 'C':c, 'gamma':gamma,'epsilon':epsilon,'shrinking':shrinking}\n",
        "\n",
        "svm = SVR()\n",
        "svm_search = RandomizedSearchCV(svm, svm_grid, scoring = 'neg_mean_squared_error', cv=3, return_train_score=True, \n",
        "                                n_jobs=-1, n_iter=100, verbose=1)\n",
        "X_train_confirmed, X_test_confirmed, y_train_confirmed, y_test_confirmed = train_test_split(days, confirmed, test_size=0.15, shuffle=False)"
      ],
      "execution_count": 0,
      "outputs": []
    },
    {
      "cell_type": "code",
      "metadata": {
        "id": "Du46NeJcIW6r",
        "colab_type": "code",
        "outputId": "5fbb08d1-9b38-4733-a8bf-e5cd490e54d5",
        "colab": {
          "base_uri": "https://localhost:8080/",
          "height": 323
        }
      },
      "source": [
        "svm_search.fit(X_train_confirmed, y_train_confirmed.ravel())"
      ],
      "execution_count": 12,
      "outputs": [
        {
          "output_type": "stream",
          "text": [
            "Fitting 3 folds for each of 100 candidates, totalling 300 fits\n"
          ],
          "name": "stdout"
        },
        {
          "output_type": "stream",
          "text": [
            "[Parallel(n_jobs=-1)]: Using backend LokyBackend with 2 concurrent workers.\n",
            "[Parallel(n_jobs=-1)]: Done 187 tasks      | elapsed:    8.0s\n",
            "[Parallel(n_jobs=-1)]: Done 300 out of 300 | elapsed:  1.7min finished\n"
          ],
          "name": "stderr"
        },
        {
          "output_type": "execute_result",
          "data": {
            "text/plain": [
              "RandomizedSearchCV(cv=3, error_score=nan,\n",
              "                   estimator=SVR(C=1.0, cache_size=200, coef0=0.0, degree=3,\n",
              "                                 epsilon=0.1, gamma='scale', kernel='rbf',\n",
              "                                 max_iter=-1, shrinking=True, tol=0.001,\n",
              "                                 verbose=False),\n",
              "                   iid='deprecated', n_iter=100, n_jobs=-1,\n",
              "                   param_distributions={'C': [0.01, 0.1, 1, 10],\n",
              "                                        'epsilon': [0.01, 0.1, 1],\n",
              "                                        'gamma': [0.01, 0.1, 1],\n",
              "                                        'kernel': ['poly', 'sigmoid', 'rbf'],\n",
              "                                        'shrinking': [True, False]},\n",
              "                   pre_dispatch='2*n_jobs', random_state=None, refit=True,\n",
              "                   return_train_score=True, scoring='neg_mean_squared_error',\n",
              "                   verbose=1)"
            ]
          },
          "metadata": {
            "tags": []
          },
          "execution_count": 12
        }
      ]
    },
    {
      "cell_type": "code",
      "metadata": {
        "id": "ocekX_rsKjmk",
        "colab_type": "code",
        "outputId": "660f8289-b5ca-488d-e83e-dbe1465fdbc6",
        "colab": {
          "base_uri": "https://localhost:8080/",
          "height": 34
        }
      },
      "source": [
        "svm_search.best_params_"
      ],
      "execution_count": 13,
      "outputs": [
        {
          "output_type": "execute_result",
          "data": {
            "text/plain": [
              "{'C': 0.1, 'epsilon': 1, 'gamma': 0.1, 'kernel': 'poly', 'shrinking': False}"
            ]
          },
          "metadata": {
            "tags": []
          },
          "execution_count": 13
        }
      ]
    },
    {
      "cell_type": "code",
      "metadata": {
        "id": "UKmYtU5EK22x",
        "colab_type": "code",
        "outputId": "e12ad0ed-054b-4ec3-bed6-8c91e6f66c81",
        "colab": {
          "base_uri": "https://localhost:8080/",
          "height": 340
        }
      },
      "source": [
        "svm_confirmed = svm_search.best_estimator_\n",
        "svm_prediction = svm_confirmed.predict(future_forecast_days)\n",
        "\n",
        "print(svm_confirmed)\n",
        "print(svm_prediction)"
      ],
      "execution_count": 14,
      "outputs": [
        {
          "output_type": "stream",
          "text": [
            "SVR(C=0.1, cache_size=200, coef0=0.0, degree=3, epsilon=1, gamma=0.1,\n",
            "    kernel='poly', max_iter=-1, shrinking=False, tol=0.001, verbose=False)\n",
            "[-6.29782389e+01 -6.28616707e+01 -6.20456933e+01 -5.98308976e+01\n",
            " -5.55178742e+01 -4.84072142e+01 -3.77995082e+01 -2.29953471e+01\n",
            " -3.29532175e+00  2.19999771e+01  5.35899586e+01  9.21740320e+01\n",
            "  1.38451606e+02  1.93122091e+02  2.56884895e+02  3.30439428e+02\n",
            "  4.14485098e+02  5.09721316e+02  6.16847489e+02  7.36563028e+02\n",
            "  8.69567341e+02  1.01655984e+03  1.17823993e+03  1.35530702e+03\n",
            "  1.54846052e+03  1.75839985e+03  1.98582440e+03  2.23143359e+03\n",
            "  2.49592683e+03  2.78000353e+03  3.08436309e+03  3.40970493e+03\n",
            "  3.75672846e+03  4.12613308e+03  4.51861820e+03  4.93488323e+03\n",
            "  5.37562758e+03  5.84155067e+03  6.33335190e+03  6.85173067e+03\n",
            "  7.39738640e+03  7.97101850e+03  8.57332638e+03  9.20500944e+03\n",
            "  9.86676710e+03  1.05592988e+04  1.12833038e+04  1.20394817e+04\n",
            "  1.28285319e+04  1.36511536e+04  1.45080465e+04  1.53999097e+04\n",
            "  1.63274429e+04  1.72913453e+04  1.82923164e+04  1.93310556e+04\n",
            "  2.04082623e+04  2.15246360e+04  2.26808759e+04  2.38776816e+04\n",
            "  2.51157524e+04  2.63957878e+04  2.77184871e+04  2.90845498e+04\n",
            "  3.04946753e+04  3.19495630e+04  3.34499123e+04]\n"
          ],
          "name": "stdout"
        }
      ]
    },
    {
      "cell_type": "code",
      "metadata": {
        "id": "sxniTfpftf3l",
        "colab_type": "code",
        "colab": {}
      },
      "source": [
        "start_date = datetime.datetime.strptime(np.array(df.ObservationDate)[0], '%m/%d/%Y')\n",
        "last_date = datetime.datetime.strptime(np.array(df.ObservationDate)[-1], '%m/%d/%Y')\n",
        "pred_date = last_date + datetime.timedelta(days=days_future)\n",
        "\n",
        "start_date_str = start_date.strftime('%d %b, %Y')\n",
        "last_date_str = last_date.strftime('%d %b, %Y')\n",
        "pred_date_str = pred_date.strftime('%d %b, %Y')"
      ],
      "execution_count": 0,
      "outputs": []
    },
    {
      "cell_type": "code",
      "metadata": {
        "id": "6ykv5U-tyROO",
        "colab_type": "code",
        "colab": {}
      },
      "source": [
        "ObservationDate_datetime = [datetime.datetime.strptime(i, '%m/%d/%Y')  for i in future_forecaste_dates]\n",
        "ObservationDate_datetime_str = [i.strftime('%d.%m') for i in ObservationDate_datetime]"
      ],
      "execution_count": 0,
      "outputs": []
    },
    {
      "cell_type": "code",
      "metadata": {
        "id": "jaWmB4DqDJxR",
        "colab_type": "code",
        "outputId": "8a987479-253a-471f-fc06-b2fbd6a12a11",
        "colab": {
          "base_uri": "https://localhost:8080/",
          "height": 539
        }
      },
      "source": [
        "plt.figure(figsize = (15, 8))\n",
        "plt.plot(adjusted_dates, y)\n",
        "plt.plot(ObservationDate_datetime_str, svm_prediction, linestyle='dashed', color='red')\n",
        "plt.title('CODVID-19 CHILE: 30 days prediction 2020', size = 20)\n",
        "plt.xlabel('30 days prediction', size = 13)\n",
        "plt.ylabel('Cases', size = 13)\n",
        "plt.legend([f'Confirmed cases | Growth rate: {round(growth_rate)}%', f'SVM predictions | MAX: {int(round(svm_prediction[-1]))}'])\n",
        "plt.figtext(x = 0.14, y = 0.70, s = f'start:          {start_date_str}\\nlast:           {last_date_str} \\nprediction: {pred_date_str}')\n",
        "plt.figtext(x = 0.40, y = 0.25, s = f'Actual: {int(np.array(df.Confirmed - (df.Deaths + df.Recovered))[-1])} -->')\n",
        "plt.figtext(x = 0.71, y = 0.83, s = f'Predicted: {int(round(svm_prediction[-1]))} -->')\n",
        "\n",
        "plt.xticks(size=10, rotation = 'vertical')\n",
        "plt.yticks(size=10)\n",
        "\n",
        "plt.grid(b = True)\n",
        "plt.show()"
      ],
      "execution_count": 54,
      "outputs": [
        {
          "output_type": "display_data",
          "data": {
            "image/png": "[encoded data removed]",
            "text/plain": [
              "<Figure size 1080x576 with 1 Axes>"
            ]
          },
          "metadata": {
            "tags": []
          }
        }
      ]
    }
  ]
}