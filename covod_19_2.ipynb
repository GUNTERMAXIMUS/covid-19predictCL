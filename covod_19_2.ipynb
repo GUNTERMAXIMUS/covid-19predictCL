{
  "nbformat": 4,
  "nbformat_minor": 0,
  "metadata": {
    "colab": {
      "name": "covod-19-2.ipynb",
      "provenance": [],
      "mount_file_id": "19Wjascml6vIg79-f7bOrsXDP2Gn_TKt-",
      "authorship_tag": "ABX9TyOcfaQiyVfN2HhoPb81d4db",
      "include_colab_link": true
    },
    "kernelspec": {
      "name": "python3",
      "display_name": "Python 3"
    },
    "accelerator": "GPU"
  },
  "cells": [
    {
      "cell_type": "markdown",
      "metadata": {
        "id": "view-in-github",
        "colab_type": "text"
      },
      "source": [
        "<a href=\"https://colab.research.google.com/github/GUNTERMAXIMUS/covid-19predictCL/blob/master/covod_19_2.ipynb\" target=\"_parent\"><img src=\"https://colab.research.google.com/assets/colab-badge.svg\" alt=\"Open In Colab\"/></a>"
      ]
    },
    {
      "cell_type": "code",
      "metadata": {
        "id": "WJTppp-YMRNV",
        "colab_type": "code",
        "outputId": "fc93b380-0aea-47eb-87bc-a5d4a0e1aa58",
        "colab": {
          "base_uri": "https://localhost:8080/",
          "height": 34
        }
      },
      "source": [
        "try:\n",
        "  %tensorflow_version 2.x\n",
        "except OSError:\n",
        "  print(tf.__version__)\n",
        "finally:\n",
        "  import tensorflow as tf\n",
        "  from tensorflow.keras import Sequential\n",
        "  from tensorflow.keras.layers import Dense, LSTM, Dropout\n",
        "  from sklearn.preprocessing import MinMaxScaler\n",
        "  scaler = MinMaxScaler()\n",
        "  \n",
        "  import numpy as np\n",
        "  import pandas as pd\n",
        "  import matplotlib.pyplot as plt\n",
        "  \n",
        "  import requests as rq\n",
        "  import io\n",
        "  \n",
        "  print(f'TF version: {tf.__version__}')\n",
        "  \n",
        "#  from google.colab import drive\n",
        "#  drive.mount('/content/gdrive', force_remount = True, timeout_ms = 60000)\n"
      ],
      "execution_count": 1,
      "outputs": [
        {
          "output_type": "stream",
          "text": [
            "TF version: 2.2.0-rc2\n"
          ],
          "name": "stdout"
        }
      ]
    },
    {
      "cell_type": "code",
      "metadata": {
        "id": "tGILqt2UQhGw",
        "colab_type": "code",
        "colab": {}
      },
      "source": [
        "url = 'https://raw.githubusercontent.com/GUNTERMAXIMUS/covid-19predictCL/master/covid_19_data.csv'\n",
        "\n",
        "respond = rq.get(url).content\n",
        "\n",
        "df_data = pd.read_csv(io.StringIO(respond.decode('utf-8')), \n",
        "                      sep = ',', \n",
        "                      quotechar = '\"', \n",
        "                      usecols = [1, 3, 5, 6 , 7], \n",
        "                      encoding = 'utf-8')\n",
        "\n",
        "df_train = pd.read_csv(io.StringIO(respond.decode('utf-8')), \n",
        "                      sep = ',', \n",
        "                      quotechar = '\"', \n",
        "                      usecols = [1, 3, 5, 6 , 7], \n",
        "                      encoding = 'utf-8')"
      ],
      "execution_count": 0,
      "outputs": []
    },
    {
      "cell_type": "code",
      "metadata": {
        "id": "-1eiAJlDWK8z",
        "colab_type": "code",
        "outputId": "83b2dd75-e03d-4dac-f7c1-41e4c3ed71b3",
        "colab": {
          "base_uri": "https://localhost:8080/",
          "height": 461
        }
      },
      "source": [
        "df = df_data[df_data['Country/Region'].str.contains('Chile')].dropna()\n",
        "df_train.dropna()\n",
        "print(df.isnull().any())\n",
        "df.tail(10)"
      ],
      "execution_count": 3,
      "outputs": [
        {
          "output_type": "stream",
          "text": [
            "ObservationDate    False\n",
            "Country/Region     False\n",
            "Confirmed          False\n",
            "Deaths             False\n",
            "Recovered          False\n",
            "dtype: bool\n"
          ],
          "name": "stdout"
        },
        {
          "output_type": "execute_result",
          "data": {
            "text/html": [
              "<div>\n",
              "<style scoped>\n",
              "    .dataframe tbody tr th:only-of-type {\n",
              "        vertical-align: middle;\n",
              "    }\n",
              "\n",
              "    .dataframe tbody tr th {\n",
              "        vertical-align: top;\n",
              "    }\n",
              "\n",
              "    .dataframe thead th {\n",
              "        text-align: right;\n",
              "    }\n",
              "</style>\n",
              "<table border=\"1\" class=\"dataframe\">\n",
              "  <thead>\n",
              "    <tr style=\"text-align: right;\">\n",
              "      <th></th>\n",
              "      <th>ObservationDate</th>\n",
              "      <th>Country/Region</th>\n",
              "      <th>Confirmed</th>\n",
              "      <th>Deaths</th>\n",
              "      <th>Recovered</th>\n",
              "    </tr>\n",
              "  </thead>\n",
              "  <tbody>\n",
              "    <tr>\n",
              "      <th>7945</th>\n",
              "      <td>03/23/2020</td>\n",
              "      <td>Chile</td>\n",
              "      <td>746.0</td>\n",
              "      <td>2.0</td>\n",
              "      <td>11.0</td>\n",
              "    </tr>\n",
              "    <tr>\n",
              "      <th>8240</th>\n",
              "      <td>03/24/2020</td>\n",
              "      <td>Chile</td>\n",
              "      <td>922.0</td>\n",
              "      <td>2.0</td>\n",
              "      <td>17.0</td>\n",
              "    </tr>\n",
              "    <tr>\n",
              "      <th>8539</th>\n",
              "      <td>03/25/2020</td>\n",
              "      <td>Chile</td>\n",
              "      <td>1142.0</td>\n",
              "      <td>3.0</td>\n",
              "      <td>22.0</td>\n",
              "    </tr>\n",
              "    <tr>\n",
              "      <th>8841</th>\n",
              "      <td>03/26/2020</td>\n",
              "      <td>Chile</td>\n",
              "      <td>1306.0</td>\n",
              "      <td>4.0</td>\n",
              "      <td>22.0</td>\n",
              "    </tr>\n",
              "    <tr>\n",
              "      <th>9148</th>\n",
              "      <td>03/27/2020</td>\n",
              "      <td>Chile</td>\n",
              "      <td>1610.0</td>\n",
              "      <td>5.0</td>\n",
              "      <td>43.0</td>\n",
              "    </tr>\n",
              "    <tr>\n",
              "      <th>9455</th>\n",
              "      <td>03/28/2020</td>\n",
              "      <td>Chile</td>\n",
              "      <td>1909.0</td>\n",
              "      <td>6.0</td>\n",
              "      <td>61.0</td>\n",
              "    </tr>\n",
              "    <tr>\n",
              "      <th>9766</th>\n",
              "      <td>03/29/2020</td>\n",
              "      <td>Chile</td>\n",
              "      <td>2139.0</td>\n",
              "      <td>7.0</td>\n",
              "      <td>75.0</td>\n",
              "    </tr>\n",
              "    <tr>\n",
              "      <th>10078</th>\n",
              "      <td>03/30/2020</td>\n",
              "      <td>Chile</td>\n",
              "      <td>2449.0</td>\n",
              "      <td>8.0</td>\n",
              "      <td>156.0</td>\n",
              "    </tr>\n",
              "    <tr>\n",
              "      <th>10391</th>\n",
              "      <td>03/31/2020</td>\n",
              "      <td>Chile</td>\n",
              "      <td>2738.0</td>\n",
              "      <td>12.0</td>\n",
              "      <td>156.0</td>\n",
              "    </tr>\n",
              "    <tr>\n",
              "      <th>10704</th>\n",
              "      <td>04/01/2020</td>\n",
              "      <td>Chile</td>\n",
              "      <td>3031.0</td>\n",
              "      <td>16.0</td>\n",
              "      <td>234.0</td>\n",
              "    </tr>\n",
              "  </tbody>\n",
              "</table>\n",
              "</div>"
            ],
            "text/plain": [
              "      ObservationDate Country/Region  Confirmed  Deaths  Recovered\n",
              "7945       03/23/2020          Chile      746.0     2.0       11.0\n",
              "8240       03/24/2020          Chile      922.0     2.0       17.0\n",
              "8539       03/25/2020          Chile     1142.0     3.0       22.0\n",
              "8841       03/26/2020          Chile     1306.0     4.0       22.0\n",
              "9148       03/27/2020          Chile     1610.0     5.0       43.0\n",
              "9455       03/28/2020          Chile     1909.0     6.0       61.0\n",
              "9766       03/29/2020          Chile     2139.0     7.0       75.0\n",
              "10078      03/30/2020          Chile     2449.0     8.0      156.0\n",
              "10391      03/31/2020          Chile     2738.0    12.0      156.0\n",
              "10704      04/01/2020          Chile     3031.0    16.0      234.0"
            ]
          },
          "metadata": {
            "tags": []
          },
          "execution_count": 3
        }
      ]
    },
    {
      "cell_type": "code",
      "metadata": {
        "id": "o9Jq9xRwddqf",
        "colab_type": "code",
        "outputId": "87b9ccad-3b3f-483f-c0f4-5a111e762761",
        "colab": {
          "base_uri": "https://localhost:8080/",
          "height": 441
        }
      },
      "source": [
        "x = df.ObservationDate\n",
        "y = (df.Confirmed) - (df.Recovered + df.Deaths)\n",
        "\n",
        "plt.figure(figsize = (10, 6))\n",
        "plt.bar(x, y, label = 'Confirmed', color = 'blue')\n",
        "plt.bar(x, df.Recovered, label = 'Recovered', color = 'green')\n",
        "plt.bar(x, df.Deaths, label = 'Deaths', color = 'red')\n",
        "plt.stackplot(x, df.Confirmed, df.Recovered, df.Deaths)\n",
        "plt.xlabel('amount')\n",
        "plt.ylabel('time sequences')\n",
        "plt.legend(loc = 'upper left')\n",
        "plt.xticks(rotation = 'vertical')\n",
        "plt.tight_layout()\n",
        "plt.grid(True)\n",
        "\n",
        "plt.show()"
      ],
      "execution_count": 4,
      "outputs": [
        {
          "output_type": "display_data",
          "data": {
            "image/png": "[encoded data removed]",
            "text/plain": [
              "<Figure size 720x432 with 1 Axes>"
            ]
          },
          "metadata": {
            "tags": []
          }
        }
      ]
    },
    {
      "cell_type": "code",
      "metadata": {
        "id": "tID0tk-B1OSa",
        "colab_type": "code",
        "colab": {}
      },
      "source": [
        "dates = df.ObservationDate\n",
        "confirmed = np.array([int(i) for i in y]).reshape(-1, 1)\n",
        "deaths = np.array([int(i) for i in df.Deaths]).reshape(-1, 1)\n",
        "recovered = np.array([int(i) for i in df.Recovered]).reshape(-1, 1)\n",
        "mortality_rate = np.array(df['Deaths'].tail(1) / df['Confirmed'].tail(1).sum()).reshape(-1, 1)\n",
        "\n",
        "confirmed_total = df.Confirmed.tail(1)\n",
        "\n",
        "days = np.array([i for i in range(len(dates))]).reshape(-1, 1)\n",
        "deaths_total = np.array(df.Deaths.tail(1)).reshape(-1, 1)\n",
        "recovered_total = np.array(df.Recovered.tail(1)).reshape(-1, 1)"
      ],
      "execution_count": 0,
      "outputs": []
    },
    {
      "cell_type": "code",
      "metadata": {
        "id": "8xUoFd-rvVzy",
        "colab_type": "code",
        "colab": {}
      },
      "source": [
        "days_future = 10\n",
        "future_forecast_days = np.array([i for i in range(len(dates) + days_future)]).reshape(-1, 1)\n",
        "adjusted_dates = future_forecast_days[:-10]"
      ],
      "execution_count": 0,
      "outputs": []
    },
    {
      "cell_type": "code",
      "metadata": {
        "id": "magta0oUz5eL",
        "colab_type": "code",
        "colab": {}
      },
      "source": [
        "# convert integers into date time for visualization\n",
        "import datetime\n",
        "start_date = datetime.datetime.strptime('03/03/2020', '%m/%d/%Y')\n",
        "future_forecaste_dates = []\n",
        "\n",
        "for i in range(len(future_forecast_days)):\n",
        "  future_forecaste_dates.append((start_date + datetime.timedelta(days=i)).strftime('%m/%d/%Y'))"
      ],
      "execution_count": 0,
      "outputs": []
    },
    {
      "cell_type": "code",
      "metadata": {
        "colab_type": "code",
        "id": "Gb3WFM70-WuV",
        "colab": {}
      },
      "source": [
        "from sklearn.model_selection import RandomizedSearchCV, train_test_split\n",
        "from sklearn.svm import SVR\n",
        "from sklearn.metrics import mean_squared_error, mean_absolute_error\n",
        "import operator"
      ],
      "execution_count": 0,
      "outputs": []
    },
    {
      "cell_type": "code",
      "metadata": {
        "id": "kNCyRJIPAMP0",
        "colab_type": "code",
        "colab": {}
      },
      "source": [
        "kernel = ['poly', 'sigmoid', 'rbf']\n",
        "c = [0.01, 0.1, 1, 10]\n",
        "gamma = [0.01, 0.1, 1]\n",
        "epsilon = [0.01, 0.1, 1]\n",
        "shrinking = [True, False]\n",
        "svm_grid = {'kernel':kernel, 'C':c, 'gamma':gamma,'epsilon':epsilon,'shrinking':shrinking}\n",
        "\n",
        "svm = SVR()\n",
        "svm_search = RandomizedSearchCV(svm, svm_grid, scoring = 'neg_mean_squared_error', cv=3, return_train_score=True, \n",
        "                                n_jobs=-1, n_iter=40, verbose=1)\n",
        "X_train_confirmed, X_test_confirmed, y_train_confirmed, y_test_confirmed = train_test_split(days, confirmed, test_size=0.15, shuffle=False)"
      ],
      "execution_count": 0,
      "outputs": []
    },
    {
      "cell_type": "code",
      "metadata": {
        "id": "Du46NeJcIW6r",
        "colab_type": "code",
        "outputId": "2ad4bb75-2399-4f7f-893d-cf965bdd08d7",
        "colab": {
          "base_uri": "https://localhost:8080/",
          "height": 377
        }
      },
      "source": [
        "svm_search.fit(X_train_confirmed, y_train_confirmed)"
      ],
      "execution_count": 10,
      "outputs": [
        {
          "output_type": "stream",
          "text": [
            "Fitting 3 folds for each of 40 candidates, totalling 120 fits\n"
          ],
          "name": "stdout"
        },
        {
          "output_type": "stream",
          "text": [
            "[Parallel(n_jobs=-1)]: Using backend LokyBackend with 2 concurrent workers.\n",
            "[Parallel(n_jobs=-1)]: Done  74 tasks      | elapsed:    9.8s\n",
            "[Parallel(n_jobs=-1)]: Done 120 out of 120 | elapsed:    9.9s finished\n",
            "/usr/local/lib/python3.6/dist-packages/sklearn/utils/validation.py:760: DataConversionWarning: A column-vector y was passed when a 1d array was expected. Please change the shape of y to (n_samples, ), for example using ravel().\n",
            "  y = column_or_1d(y, warn=True)\n"
          ],
          "name": "stderr"
        },
        {
          "output_type": "execute_result",
          "data": {
            "text/plain": [
              "RandomizedSearchCV(cv=3, error_score=nan,\n",
              "                   estimator=SVR(C=1.0, cache_size=200, coef0=0.0, degree=3,\n",
              "                                 epsilon=0.1, gamma='scale', kernel='rbf',\n",
              "                                 max_iter=-1, shrinking=True, tol=0.001,\n",
              "                                 verbose=False),\n",
              "                   iid='deprecated', n_iter=40, n_jobs=-1,\n",
              "                   param_distributions={'C': [0.01, 0.1, 1, 10],\n",
              "                                        'epsilon': [0.01, 0.1, 1],\n",
              "                                        'gamma': [0.01, 0.1, 1],\n",
              "                                        'kernel': ['poly', 'sigmoid', 'rbf'],\n",
              "                                        'shrinking': [True, False]},\n",
              "                   pre_dispatch='2*n_jobs', random_state=None, refit=True,\n",
              "                   return_train_score=True, scoring='neg_mean_squared_error',\n",
              "                   verbose=1)"
            ]
          },
          "metadata": {
            "tags": []
          },
          "execution_count": 10
        }
      ]
    },
    {
      "cell_type": "code",
      "metadata": {
        "id": "ocekX_rsKjmk",
        "colab_type": "code",
        "outputId": "e91cc07f-b39f-4243-a095-4adf966c203f",
        "colab": {
          "base_uri": "https://localhost:8080/",
          "height": 34
        }
      },
      "source": [
        "svm_search.best_params_"
      ],
      "execution_count": 11,
      "outputs": [
        {
          "output_type": "execute_result",
          "data": {
            "text/plain": [
              "{'C': 10, 'epsilon': 0.1, 'gamma': 0.01, 'kernel': 'poly', 'shrinking': True}"
            ]
          },
          "metadata": {
            "tags": []
          },
          "execution_count": 11
        }
      ]
    },
    {
      "cell_type": "code",
      "metadata": {
        "id": "UKmYtU5EK22x",
        "colab_type": "code",
        "outputId": "30eab938-8f78-4a4f-df97-1dfdc26074a2",
        "colab": {
          "base_uri": "https://localhost:8080/",
          "height": 221
        }
      },
      "source": [
        "svm_confirmed = svm_search.best_estimator_\n",
        "svm_prediction = svm_confirmed.predict(future_forecast_days)\n",
        "\n",
        "print(svm_confirmed)\n",
        "print(svm_prediction)"
      ],
      "execution_count": 12,
      "outputs": [
        {
          "output_type": "stream",
          "text": [
            "SVR(C=10, cache_size=200, coef0=0.0, degree=3, epsilon=0.1, gamma=0.01,\n",
            "    kernel='poly', max_iter=-1, shrinking=True, tol=0.001, verbose=False)\n",
            "[-1.94691042e+01 -1.93747337e+01 -1.87141398e+01 -1.69210993e+01\n",
            " -1.34293887e+01 -7.67278488e+00  9.14935614e-01  1.28999961e+01\n",
            "  2.88486199e+01  4.93270303e+01  7.49014506e+01  1.06138104e+02\n",
            "  1.43603215e+02  1.87863005e+02  2.39483698e+02  2.99031518e+02\n",
            "  3.67072689e+02  4.44173432e+02  5.30899972e+02  6.27818532e+02\n",
            "  7.35495335e+02  8.54496604e+02  9.85388564e+02  1.12873744e+03\n",
            "  1.28510945e+03  1.45507082e+03  1.63918777e+03  1.83802653e+03\n",
            "  2.05215332e+03  2.28213436e+03  2.52853588e+03  2.79192410e+03\n",
            "  3.07286524e+03  3.37192553e+03  3.68967118e+03  4.02666844e+03\n",
            "  4.38348350e+03  4.76068261e+03  5.15883198e+03  5.57849784e+03]\n"
          ],
          "name": "stdout"
        }
      ]
    },
    {
      "cell_type": "code",
      "metadata": {
        "id": "OhKrxDhhMZkT",
        "colab_type": "code",
        "outputId": "172b9d1e-6f51-4a60-b93d-ae987f492420",
        "colab": {
          "base_uri": "https://localhost:8080/",
          "height": 393
        }
      },
      "source": [
        "plt.figure(figsize = (10, 6))\n",
        "plt.plot(adjusted_dates, confirmed)\n",
        "plt.plot(future_forecast_days, svm_prediction, linestyle='dashed', color='red')\n",
        "plt.xlabel('Days')\n",
        "plt.ylabel('Cases')\n",
        "plt.legend(['Confirmed cases', 'SVM predictions'])\n",
        "plt.xticks(size=15)\n",
        "plt.yticks(size=15)\n",
        "plt.show()"
      ],
      "execution_count": 13,
      "outputs": [
        {
          "output_type": "display_data",
          "data": {
            "image/png": "[encoded data removed]",
            "text/plain": [
              "<Figure size 720x432 with 1 Axes>"
            ]
          },
          "metadata": {
            "tags": []
          }
        }
      ]
    }
  ]
}