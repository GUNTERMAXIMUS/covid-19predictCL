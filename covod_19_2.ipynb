{
  "nbformat": 4,
  "nbformat_minor": 0,
  "metadata": {
    "colab": {
      "name": "covod-19-2.ipynb",
      "provenance": [],
      "mount_file_id": "19Wjascml6vIg79-f7bOrsXDP2Gn_TKt-",
      "authorship_tag": "ABX9TyPe1/4p5bGRm/e0AO07PgUN",
      "include_colab_link": true
    },
    "kernelspec": {
      "name": "python3",
      "display_name": "Python 3"
    }
  },
  "cells": [
    {
      "cell_type": "markdown",
      "metadata": {
        "id": "view-in-github",
        "colab_type": "text"
      },
      "source": [
        "<a href=\"https://colab.research.google.com/github/GUNTERMAXIMUS/covid-19predictCL/blob/master/covod_19_2.ipynb\" target=\"_parent\"><img src=\"https://colab.research.google.com/assets/colab-badge.svg\" alt=\"Open In Colab\"/></a>"
      ]
    },
    {
      "cell_type": "code",
      "metadata": {
        "id": "WJTppp-YMRNV",
        "colab_type": "code",
        "outputId": "aacc9b0a-0dc8-4920-a393-fec57bff7ab4",
        "colab": {
          "base_uri": "https://localhost:8080/",
          "height": 34
        }
      },
      "source": [
        "try:\n",
        "  %tensorflow_version 2.x\n",
        "except OSError:\n",
        "  print(tf.__version__)\n",
        "finally:\n",
        "  import tensorflow as tf\n",
        "  from tensorflow.keras import Sequential\n",
        "  from tensorflow.keras.layers import Dense, LSTM, Dropout\n",
        "  from sklearn.preprocessing import MinMaxScaler\n",
        "  scaler = MinMaxScaler()\n",
        "  \n",
        "  import numpy as np\n",
        "  import pandas as pd\n",
        "  import matplotlib.pyplot as plt\n",
        "  \n",
        "  import requests as rq\n",
        "  import io\n",
        "  \n",
        "  print(f'TF version: {tf.__version__}')\n",
        "  \n",
        "#  from google.colab import drive\n",
        "#  drive.mount('/content/gdrive', force_remount = True, timeout_ms = 60000)\n"
      ],
      "execution_count": 1,
      "outputs": [
        {
          "output_type": "stream",
          "text": [
            "TF version: 2.2.0-rc3\n"
          ],
          "name": "stdout"
        }
      ]
    },
    {
      "cell_type": "code",
      "metadata": {
        "id": "tGILqt2UQhGw",
        "colab_type": "code",
        "colab": {}
      },
      "source": [
        "url = 'https://raw.githubusercontent.com/GUNTERMAXIMUS/covid-19predictCL/master/covid_19_data.csv'\n",
        "\n",
        "respond = rq.get(url).content\n",
        "\n",
        "df_data = pd.read_csv(io.StringIO(respond.decode('utf-8')), \n",
        "                      sep = ',', \n",
        "                      quotechar = '\"', \n",
        "                      usecols = [1, 3, 5, 6 , 7],\n",
        "                      encoding = 'utf-8'\n",
        "                      )\n",
        "\n",
        "df_train = pd.read_csv(io.StringIO(respond.decode('utf-8')), \n",
        "                      sep = ',', \n",
        "                      quotechar = '\"', \n",
        "                      usecols = [1, 3, 5, 6 , 7], \n",
        "                      encoding = 'utf-8'\n",
        "                      )"
      ],
      "execution_count": 0,
      "outputs": []
    },
    {
      "cell_type": "code",
      "metadata": {
        "id": "-1eiAJlDWK8z",
        "colab_type": "code",
        "outputId": "234df540-0113-45a1-9a11-800a80bfd1c7",
        "colab": {
          "base_uri": "https://localhost:8080/",
          "height": 461
        }
      },
      "source": [
        "df = df_data[df_data['Country/Region'].str.contains('Chile')].dropna()\n",
        "df_train.dropna()\n",
        "print(df.isnull().any())\n",
        "df.tail(10)"
      ],
      "execution_count": 3,
      "outputs": [
        {
          "output_type": "stream",
          "text": [
            "ObservationDate    False\n",
            "Country/Region     False\n",
            "Confirmed          False\n",
            "Deaths             False\n",
            "Recovered          False\n",
            "dtype: bool\n"
          ],
          "name": "stdout"
        },
        {
          "output_type": "execute_result",
          "data": {
            "text/html": [
              "<div>\n",
              "<style scoped>\n",
              "    .dataframe tbody tr th:only-of-type {\n",
              "        vertical-align: middle;\n",
              "    }\n",
              "\n",
              "    .dataframe tbody tr th {\n",
              "        vertical-align: top;\n",
              "    }\n",
              "\n",
              "    .dataframe thead th {\n",
              "        text-align: right;\n",
              "    }\n",
              "</style>\n",
              "<table border=\"1\" class=\"dataframe\">\n",
              "  <thead>\n",
              "    <tr style=\"text-align: right;\">\n",
              "      <th></th>\n",
              "      <th>ObservationDate</th>\n",
              "      <th>Country/Region</th>\n",
              "      <th>Confirmed</th>\n",
              "      <th>Deaths</th>\n",
              "      <th>Recovered</th>\n",
              "    </tr>\n",
              "  </thead>\n",
              "  <tbody>\n",
              "    <tr>\n",
              "      <th>11963</th>\n",
              "      <td>04/05/2020</td>\n",
              "      <td>Chile</td>\n",
              "      <td>4471.0</td>\n",
              "      <td>34.0</td>\n",
              "      <td>618.0</td>\n",
              "    </tr>\n",
              "    <tr>\n",
              "      <th>12282</th>\n",
              "      <td>04/06/2020</td>\n",
              "      <td>Chile</td>\n",
              "      <td>4815.0</td>\n",
              "      <td>37.0</td>\n",
              "      <td>728.0</td>\n",
              "    </tr>\n",
              "    <tr>\n",
              "      <th>12602</th>\n",
              "      <td>04/07/2020</td>\n",
              "      <td>Chile</td>\n",
              "      <td>5116.0</td>\n",
              "      <td>43.0</td>\n",
              "      <td>898.0</td>\n",
              "    </tr>\n",
              "    <tr>\n",
              "      <th>12922</th>\n",
              "      <td>04/08/2020</td>\n",
              "      <td>Chile</td>\n",
              "      <td>5546.0</td>\n",
              "      <td>48.0</td>\n",
              "      <td>1115.0</td>\n",
              "    </tr>\n",
              "    <tr>\n",
              "      <th>13242</th>\n",
              "      <td>04/09/2020</td>\n",
              "      <td>Chile</td>\n",
              "      <td>5972.0</td>\n",
              "      <td>57.0</td>\n",
              "      <td>1274.0</td>\n",
              "    </tr>\n",
              "    <tr>\n",
              "      <th>13562</th>\n",
              "      <td>04/10/2020</td>\n",
              "      <td>Chile</td>\n",
              "      <td>6501.0</td>\n",
              "      <td>65.0</td>\n",
              "      <td>1571.0</td>\n",
              "    </tr>\n",
              "    <tr>\n",
              "      <th>13883</th>\n",
              "      <td>04/11/2020</td>\n",
              "      <td>Chile</td>\n",
              "      <td>6927.0</td>\n",
              "      <td>73.0</td>\n",
              "      <td>1864.0</td>\n",
              "    </tr>\n",
              "    <tr>\n",
              "      <th>14204</th>\n",
              "      <td>04/12/2020</td>\n",
              "      <td>Chile</td>\n",
              "      <td>7213.0</td>\n",
              "      <td>80.0</td>\n",
              "      <td>2059.0</td>\n",
              "    </tr>\n",
              "    <tr>\n",
              "      <th>14524</th>\n",
              "      <td>04/13/2020</td>\n",
              "      <td>Chile</td>\n",
              "      <td>7525.0</td>\n",
              "      <td>82.0</td>\n",
              "      <td>2367.0</td>\n",
              "    </tr>\n",
              "    <tr>\n",
              "      <th>14844</th>\n",
              "      <td>04/14/2020</td>\n",
              "      <td>Chile</td>\n",
              "      <td>7917.0</td>\n",
              "      <td>92.0</td>\n",
              "      <td>2646.0</td>\n",
              "    </tr>\n",
              "  </tbody>\n",
              "</table>\n",
              "</div>"
            ],
            "text/plain": [
              "      ObservationDate Country/Region  Confirmed  Deaths  Recovered\n",
              "11963      04/05/2020          Chile     4471.0    34.0      618.0\n",
              "12282      04/06/2020          Chile     4815.0    37.0      728.0\n",
              "12602      04/07/2020          Chile     5116.0    43.0      898.0\n",
              "12922      04/08/2020          Chile     5546.0    48.0     1115.0\n",
              "13242      04/09/2020          Chile     5972.0    57.0     1274.0\n",
              "13562      04/10/2020          Chile     6501.0    65.0     1571.0\n",
              "13883      04/11/2020          Chile     6927.0    73.0     1864.0\n",
              "14204      04/12/2020          Chile     7213.0    80.0     2059.0\n",
              "14524      04/13/2020          Chile     7525.0    82.0     2367.0\n",
              "14844      04/14/2020          Chile     7917.0    92.0     2646.0"
            ]
          },
          "metadata": {
            "tags": []
          },
          "execution_count": 3
        }
      ]
    },
    {
      "cell_type": "code",
      "metadata": {
        "id": "4Zut-VFAxEkj",
        "colab_type": "code",
        "outputId": "73943d92-a63b-43e4-f841-70a95810f750",
        "colab": {
          "base_uri": "https://localhost:8080/",
          "height": 34
        }
      },
      "source": [
        "gr = np.array((df.Confirmed) - (df.Recovered + df.Deaths))\n",
        "growth_rate = ((gr[-1] - gr[-2]) / gr[-2]) * 100\n",
        "growth_rate"
      ],
      "execution_count": 4,
      "outputs": [
        {
          "output_type": "execute_result",
          "data": {
            "text/plain": [
              "2.0291568163908593"
            ]
          },
          "metadata": {
            "tags": []
          },
          "execution_count": 4
        }
      ]
    },
    {
      "cell_type": "code",
      "metadata": {
        "id": "o9Jq9xRwddqf",
        "colab_type": "code",
        "outputId": "d827aaf4-3877-4247-9600-4dcd07e908e6",
        "colab": {
          "base_uri": "https://localhost:8080/",
          "height": 441
        }
      },
      "source": [
        "x = df.ObservationDate\n",
        "y = (df.Confirmed) - (df.Recovered + df.Deaths)\n",
        "\n",
        "plt.figure(figsize = (10, 6))\n",
        "plt.bar(x, y, label = 'Confirmed', color = 'blue')\n",
        "plt.bar(x, df.Recovered, label = 'Recovered', color = 'green')\n",
        "plt.bar(x, df.Deaths, label = 'Deaths', color = 'red')\n",
        "#plt.stackplot(x, df.Confirmed, df.Recovered, df.Deaths)\n",
        "plt.xlabel('amount', )\n",
        "plt.ylabel('time sequences')\n",
        "plt.legend(loc = 'upper left')\n",
        "plt.xticks(rotation = 'vertical')\n",
        "plt.tight_layout()\n",
        "plt.grid(True)\n",
        "\n",
        "plt.show()"
      ],
      "execution_count": 5,
      "outputs": [
        {
          "output_type": "display_data",
          "data": {
            "image/png": "[encoded data removed]",
            "text/plain": [
              "<Figure size 720x432 with 1 Axes>"
            ]
          },
          "metadata": {
            "tags": [],
            "needs_background": "light"
          }
        }
      ]
    },
    {
      "cell_type": "code",
      "metadata": {
        "id": "tID0tk-B1OSa",
        "colab_type": "code",
        "colab": {}
      },
      "source": [
        "dates = df.ObservationDate\n",
        "confirmed = np.array([int(i) for i in y]).reshape(-1, 1)\n",
        "deaths = np.array([int(i) for i in df.Deaths]).reshape(-1, 1)\n",
        "recovered = np.array([int(i) for i in df.Recovered]).reshape(-1, 1)\n",
        "mortality_rate = np.array(df['Deaths'].tail(1) / df['Confirmed'].tail(1).sum()).reshape(-1, 1)\n",
        "\n",
        "confirmed_total = df.Confirmed.tail(1)\n",
        "\n",
        "days = np.array([i for i in range(len(dates))]).reshape(-1, 1)\n",
        "deaths_total = np.array(df.Deaths.tail(1)).reshape(-1, 1)\n",
        "recovered_total = np.array(df.Recovered.tail(1)).reshape(-1, 1)"
      ],
      "execution_count": 0,
      "outputs": []
    },
    {
      "cell_type": "code",
      "metadata": {
        "id": "2FCZrYvW8s1f",
        "colab_type": "code",
        "outputId": "69b341a1-20b4-4894-8240-0078fbff27ad",
        "colab": {
          "base_uri": "https://localhost:8080/",
          "height": 34
        }
      },
      "source": [
        "mortality_rate = ((df.Deaths.tail(1) / df.Confirmed.tail(1)).sum()) * 100\n",
        "print(f'Mortality rate: {mortality_rate} %')"
      ],
      "execution_count": 7,
      "outputs": [
        {
          "output_type": "stream",
          "text": [
            "Mortality rate: 1.1620563344701276 %\n"
          ],
          "name": "stdout"
        }
      ]
    },
    {
      "cell_type": "code",
      "metadata": {
        "id": "8xUoFd-rvVzy",
        "colab_type": "code",
        "colab": {}
      },
      "source": [
        "days_future = 30\n",
        "future_forecast_days = np.array([i for i in range(len(dates) + days_future)]).reshape(-1, 1)\n",
        "adjusted_dates = future_forecast_days[:-30]"
      ],
      "execution_count": 0,
      "outputs": []
    },
    {
      "cell_type": "code",
      "metadata": {
        "id": "magta0oUz5eL",
        "colab_type": "code",
        "colab": {}
      },
      "source": [
        "# convert integers into date time for visualization\n",
        "import datetime\n",
        "\n",
        "start_date = datetime.datetime.strptime('03/03/2020', '%m/%d/%Y')\n",
        "future_forecaste_dates = []\n",
        "\n",
        "for i in range(len(future_forecast_days)):\n",
        "  future_forecaste_dates.append((start_date + datetime.timedelta(days=i)).strftime('%m/%d/%Y'))"
      ],
      "execution_count": 0,
      "outputs": []
    },
    {
      "cell_type": "code",
      "metadata": {
        "colab_type": "code",
        "id": "Gb3WFM70-WuV",
        "colab": {}
      },
      "source": [
        "from sklearn.model_selection import RandomizedSearchCV, train_test_split\n",
        "from sklearn.svm import SVR\n",
        "from sklearn.metrics import mean_squared_error, mean_absolute_error\n",
        "import operator"
      ],
      "execution_count": 0,
      "outputs": []
    },
    {
      "cell_type": "code",
      "metadata": {
        "id": "kNCyRJIPAMP0",
        "colab_type": "code",
        "colab": {}
      },
      "source": [
        "kernel = ['poly', 'sigmoid', 'rbf']\n",
        "c = [0.01, 0.1, 1, 10]\n",
        "gamma = [0.01, 0.1, 1]\n",
        "epsilon = [0.01, 0.1, 1]\n",
        "shrinking = [True, False]\n",
        "svm_grid = {'kernel':kernel, 'C':c, 'gamma':gamma,'epsilon':epsilon,'shrinking':shrinking}\n",
        "\n",
        "svm = SVR()\n",
        "svm_search = RandomizedSearchCV(svm, svm_grid, scoring = 'neg_mean_squared_error', cv=3, return_train_score=True, \n",
        "                                n_jobs=-1, n_iter=40, verbose=1)\n",
        "X_train_confirmed, X_test_confirmed, y_train_confirmed, y_test_confirmed = train_test_split(days, confirmed, test_size=0.15, shuffle=False)"
      ],
      "execution_count": 0,
      "outputs": []
    },
    {
      "cell_type": "code",
      "metadata": {
        "id": "Du46NeJcIW6r",
        "colab_type": "code",
        "outputId": "68c75c4c-2d87-41fa-8257-04e34d5dd8cf",
        "colab": {
          "base_uri": "https://localhost:8080/",
          "height": 306
        }
      },
      "source": [
        "svm_search.fit(X_train_confirmed, y_train_confirmed.ravel())"
      ],
      "execution_count": 12,
      "outputs": [
        {
          "output_type": "stream",
          "text": [
            "Fitting 3 folds for each of 40 candidates, totalling 120 fits\n"
          ],
          "name": "stdout"
        },
        {
          "output_type": "stream",
          "text": [
            "[Parallel(n_jobs=-1)]: Using backend LokyBackend with 2 concurrent workers.\n",
            "[Parallel(n_jobs=-1)]: Done 120 out of 120 | elapsed:   43.7s finished\n"
          ],
          "name": "stderr"
        },
        {
          "output_type": "execute_result",
          "data": {
            "text/plain": [
              "RandomizedSearchCV(cv=3, error_score=nan,\n",
              "                   estimator=SVR(C=1.0, cache_size=200, coef0=0.0, degree=3,\n",
              "                                 epsilon=0.1, gamma='scale', kernel='rbf',\n",
              "                                 max_iter=-1, shrinking=True, tol=0.001,\n",
              "                                 verbose=False),\n",
              "                   iid='deprecated', n_iter=40, n_jobs=-1,\n",
              "                   param_distributions={'C': [0.01, 0.1, 1, 10],\n",
              "                                        'epsilon': [0.01, 0.1, 1],\n",
              "                                        'gamma': [0.01, 0.1, 1],\n",
              "                                        'kernel': ['poly', 'sigmoid', 'rbf'],\n",
              "                                        'shrinking': [True, False]},\n",
              "                   pre_dispatch='2*n_jobs', random_state=None, refit=True,\n",
              "                   return_train_score=True, scoring='neg_mean_squared_error',\n",
              "                   verbose=1)"
            ]
          },
          "metadata": {
            "tags": []
          },
          "execution_count": 12
        }
      ]
    },
    {
      "cell_type": "code",
      "metadata": {
        "id": "ocekX_rsKjmk",
        "colab_type": "code",
        "outputId": "6120497e-a4cb-47cc-bf57-4676a5ec0b21",
        "colab": {
          "base_uri": "https://localhost:8080/",
          "height": 34
        }
      },
      "source": [
        "svm_search.best_params_"
      ],
      "execution_count": 13,
      "outputs": [
        {
          "output_type": "execute_result",
          "data": {
            "text/plain": [
              "{'C': 0.1, 'epsilon': 0.01, 'gamma': 1, 'kernel': 'poly', 'shrinking': False}"
            ]
          },
          "metadata": {
            "tags": []
          },
          "execution_count": 13
        }
      ]
    },
    {
      "cell_type": "code",
      "metadata": {
        "id": "UKmYtU5EK22x",
        "colab_type": "code",
        "outputId": "0c5cf45d-c825-4f64-d5f4-694e58676d98",
        "colab": {
          "base_uri": "https://localhost:8080/",
          "height": 374
        }
      },
      "source": [
        "svm_confirmed = svm_search.best_estimator_\n",
        "svm_prediction = svm_confirmed.predict(future_forecast_days)\n",
        "\n",
        "print(svm_confirmed)\n",
        "print(svm_prediction)"
      ],
      "execution_count": 14,
      "outputs": [
        {
          "output_type": "stream",
          "text": [
            "SVR(C=0.1, cache_size=200, coef0=0.0, degree=3, epsilon=0.01, gamma=1,\n",
            "    kernel='poly', max_iter=-1, shrinking=False, tol=0.001, verbose=False)\n",
            "[-5.85154040e+01 -5.84035722e+01 -5.76207494e+01 -5.54959446e+01\n",
            " -5.13581669e+01 -4.45364253e+01 -3.43597288e+01 -2.01570864e+01\n",
            " -1.25750710e+00  2.30100000e+01  5.33164259e+01  9.03327616e+01\n",
            "  1.34729998e+02  1.87179126e+02  2.48351137e+02  3.18917022e+02\n",
            "  3.99547771e+02  4.90914377e+02  5.93687828e+02  7.08539118e+02\n",
            "  8.36139236e+02  9.77159173e+02  1.13226992e+03  1.30214247e+03\n",
            "  1.48744781e+03  1.68885694e+03  1.90704084e+03  2.14267050e+03\n",
            "  2.39641693e+03  2.66895110e+03  2.96094400e+03  3.27306664e+03\n",
            "  3.60599000e+03  3.96038507e+03  4.33692284e+03  4.73627431e+03\n",
            "  5.15911045e+03  5.60610228e+03  6.07792077e+03  6.57523692e+03\n",
            "  7.09872171e+03  7.64904615e+03  8.22688121e+03  8.83289790e+03\n",
            "  9.46776720e+03  1.01321601e+04  1.08267476e+04  1.15522007e+04\n",
            "  1.23091903e+04  1.30983876e+04  1.39204633e+04  1.47760887e+04\n",
            "  1.56659345e+04  1.65906719e+04  1.75509719e+04  1.85475053e+04\n",
            "  1.95809432e+04  2.06519567e+04  2.17612166e+04  2.29093940e+04\n",
            "  2.40971599e+04  2.53251852e+04  2.65941410e+04  2.79046982e+04\n",
            "  2.92575278e+04  3.06533009e+04  3.20926884e+04  3.35763613e+04\n",
            "  3.51049906e+04  3.66792472e+04  3.82998023e+04  3.99673267e+04\n",
            "  4.16824915e+04]\n"
          ],
          "name": "stdout"
        }
      ]
    },
    {
      "cell_type": "code",
      "metadata": {
        "id": "sxniTfpftf3l",
        "colab_type": "code",
        "colab": {}
      },
      "source": [
        "start_date = datetime.datetime.strptime(np.array(df.ObservationDate)[0], '%m/%d/%Y')\n",
        "last_date = datetime.datetime.strptime(np.array(df.ObservationDate)[-1], '%m/%d/%Y')\n",
        "pred_date = last_date + datetime.timedelta(days=days_future)\n",
        "\n",
        "start_date_str = start_date.strftime('%d %b, %Y')\n",
        "last_date_str = last_date.strftime('%d %b, %Y')\n",
        "pred_date_str = pred_date.strftime('%d %b, %Y')"
      ],
      "execution_count": 0,
      "outputs": []
    },
    {
      "cell_type": "code",
      "metadata": {
        "id": "6ykv5U-tyROO",
        "colab_type": "code",
        "colab": {}
      },
      "source": [
        "ObservationDate_datetime = [datetime.datetime.strptime(i, '%m/%d/%Y')  for i in future_forecaste_dates]\n",
        "ObservationDate_datetime_str = [i.strftime('%d.%m') for i in ObservationDate_datetime]"
      ],
      "execution_count": 0,
      "outputs": []
    },
    {
      "cell_type": "code",
      "metadata": {
        "id": "jaWmB4DqDJxR",
        "colab_type": "code",
        "outputId": "3632391f-d871-4734-f8d8-904ef18af0eb",
        "colab": {
          "base_uri": "https://localhost:8080/",
          "height": 539
        }
      },
      "source": [
        "plt.figure(figsize = (15, 8))\n",
        "plt.plot(adjusted_dates, y)\n",
        "plt.plot(ObservationDate_datetime_str, svm_prediction, linestyle='dashed', color='red')\n",
        "plt.title('CODVID-19 CHILE: 30 days prediction 2020', size = 20)\n",
        "plt.xlabel('30 days prediction', size = 13)\n",
        "plt.ylabel('Cases', size = 13)\n",
        "plt.legend([f'Confirmed cases | Growth rate: {round(growth_rate, 3)}%', f'SVM predictions | Mortality rate: {round(mortality_rate, 3)} %'])\n",
        "plt.figtext(x = 0.14, y = 0.70, s = f'start:          {start_date_str}\\nlast:           {last_date_str} \\nprediction: {pred_date_str}')\n",
        "plt.figtext(x = 0.40, y = 0.25, s = f'Actual: {int(np.array(df.Confirmed - (df.Deaths + df.Recovered))[-1])} -->')\n",
        "plt.figtext(x = 0.71, y = 0.83, s = f'Predicted: {int(round(svm_prediction[-1]))} -->')\n",
        "\n",
        "plt.xticks(size=10, rotation = 'vertical')\n",
        "plt.yticks(size=10)\n",
        "\n",
        "plt.grid(b = True)\n",
        "plt.show()"
      ],
      "execution_count": 25,
      "outputs": [
        {
          "output_type": "display_data",
          "data": {
            "image/png": "[encoded data removed]",
            "text/plain": [
              "<Figure size 1080x576 with 1 Axes>"
            ]
          },
          "metadata": {
            "tags": [],
            "needs_background": "light"
          }
        }
      ]
    },
    {
      "cell_type": "code",
      "metadata": {
        "id": "KWcm9ueQw3sz",
        "colab_type": "code",
        "outputId": "c282ad72-1bc8-4c58-fb6e-13d48b360282",
        "colab": {
          "base_uri": "https://localhost:8080/",
          "height": 34
        }
      },
      "source": [
        "(svm_prediction[42] * 100 / 7919)"
      ],
      "execution_count": 18,
      "outputs": [
        {
          "output_type": "execute_result",
          "data": {
            "text/plain": [
              "103.88787995842263"
            ]
          },
          "metadata": {
            "tags": []
          },
          "execution_count": 18
        }
      ]
    }
  ]
}