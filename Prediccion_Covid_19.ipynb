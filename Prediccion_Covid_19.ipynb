{
  "nbformat": 4,
  "nbformat_minor": 0,
  "metadata": {
    "colab": {
      "name": "Prediccion_Covid_19.ipynb",
      "provenance": [],
      "collapsed_sections": [],
      "toc_visible": true,
      "authorship_tag": "ABX9TyPQaDb/wGussBn4jiLlIQCC",
      "include_colab_link": true
    },
    "kernelspec": {
      "name": "python3",
      "display_name": "Python 3"
    },
    "accelerator": "GPU"
  },
  "cells": [
    {
      "cell_type": "markdown",
      "metadata": {
        "id": "view-in-github",
        "colab_type": "text"
      },
      "source": [
        "<a href=\"https://colab.research.google.com/github/GUNTERMAXIMUS/covid-19predictCL/blob/master/Prediccion_Covid_19.ipynb\" target=\"_parent\"><img src=\"https://colab.research.google.com/assets/colab-badge.svg\" alt=\"Open In Colab\"/></a>"
      ]
    },
    {
      "cell_type": "code",
      "metadata": {
        "id": "TZQInsUf9xLg",
        "colab_type": "code",
        "outputId": "d55a2de0-c473-48ef-eaac-883c903957b9",
        "colab": {
          "base_uri": "https://localhost:8080/",
          "height": 805
        }
      },
      "source": [
        "%tensorflow_version 2.x\n",
        "import tensorflow as tf\n",
        "from tensorflow import keras\n",
        "\n",
        "import numpy as np\n",
        "import pandas as pd\n",
        "import matplotlib.pyplot as plt\n",
        "print(tf.__version__)\n",
        "\n",
        "f_data = 'covid_19_data.csv' \n",
        "df_data = pd.read_csv(f_data, \n",
        "                      sep = ',', \n",
        "                      quotechar = '\"', \n",
        "                      usecols = [1, 3, 5, 6 , 7], \n",
        "                      encoding = 'utf-8')\n",
        "\n",
        "df = df_data[df_data['Country/Region'].str.contains('Chile')]#buscar un string especifico en el csv\n",
        "print(df)\n",
        "df.head(10)  \n",
        "\n",
        "###\n",
        "\n",
        "x = df.ObservationDate\n",
        "\n",
        "plt.figure(figsize = (10, 6))\n",
        "plt.bar(x, (df.Confirmed)-(df.Recovered + df.Deaths), label = 'Confirmed', color = 'blue')\n",
        "plt.bar(x, df.Recovered, label = 'Recovered', color = 'green')\n",
        "plt.bar(x, df.Deaths, label = 'Deaths', color = 'red')\n",
        "plt.stackplot(x, df.Confirmed, df.Recovered, df.Deaths)\n",
        "plt.xlabel('amount')\n",
        "plt.ylabel('time sequences')\n",
        "plt.legend(loc = 'upper left')\n",
        "plt.xticks(rotation = 'vertical')\n",
        "plt.tight_layout()\n",
        "plt.grid(True)\n",
        "\n",
        "plt.show()\n",
        "\n",
        "###\n",
        "\n"
      ],
      "execution_count": 56,
      "outputs": [
        {
          "output_type": "stream",
          "text": [
            "2.1.0\n",
            "     ObservationDate Country/Region  Confirmed  Deaths  Recovered\n",
            "3198      03/03/2020          Chile        1.0     0.0        0.0\n",
            "3357      03/04/2020          Chile        1.0     0.0        0.0\n",
            "3487      03/05/2020          Chile        4.0     0.0        0.0\n",
            "3670      03/06/2020          Chile        4.0     0.0        0.0\n",
            "3875      03/07/2020          Chile        4.0     0.0        0.0\n",
            "4093      03/08/2020          Chile        8.0     0.0        0.0\n",
            "4351      03/09/2020          Chile        8.0     0.0        0.0\n",
            "4612      03/10/2020          Chile       13.0     0.0        0.0\n",
            "4804      03/11/2020          Chile       23.0     0.0        0.0\n",
            "5028      03/12/2020          Chile       23.0     0.0        0.0\n",
            "5282      03/13/2020          Chile       43.0     0.0        0.0\n",
            "5469      03/14/2020          Chile       61.0     0.0        0.0\n",
            "5721      03/15/2020          Chile       74.0     0.0        0.0\n",
            "5950      03/16/2020          Chile      155.0     0.0        0.0\n",
            "6219      03/17/2020          Chile      201.0     0.0        0.0\n",
            "6496      03/18/2020          Chile      238.0     0.0        0.0\n",
            "6792      03/19/2020          Chile      238.0     0.0        0.0\n",
            "7062      03/20/2020          Chile      434.0     0.0        6.0\n"
          ],
          "name": "stdout"
        },
        {
          "output_type": "display_data",
          "data": {
            "image/png": "[encoded data removed]",
            "text/plain": [
              "<Figure size 720x432 with 1 Axes>"
            ]
          },
          "metadata": {
            "tags": []
          }
        }
      ]
    },
    {
      "cell_type": "code",
      "metadata": {
        "id": "dd77wFgnVYPY",
        "colab_type": "code",
        "colab": {
          "base_uri": "https://localhost:8080/",
          "height": 265
        },
        "outputId": "37dd4065-b12a-4eb7-a7b6-9bd5e29ea1e3"
      },
      "source": [
        "x = [0, 2, 3]\n",
        "plt.bar(x, 3, label = 'Confirmed', color = 'red')#ASI FUNCIONA LA WEA\n",
        "\n",
        "plt.show()"
      ],
      "execution_count": 19,
      "outputs": [
        {
          "output_type": "display_data",
          "data": {
            "image/png": "[encoded data removed]",
            "text/plain": [
              "<Figure size 432x288 with 1 Axes>"
            ]
          },
          "metadata": {
            "tags": []
          }
        }
      ]
    },
    {
      "cell_type": "code",
      "metadata": {
        "id": "AfrxaFuXgOJv",
        "colab_type": "code",
        "colab": {}
      },
      "source": [
        "#PRGRECION LINEAL"
      ],
      "execution_count": 0,
      "outputs": []
    },
    {
      "cell_type": "code",
      "metadata": {
        "id": "r7Snog6bgSxX",
        "colab_type": "code",
        "colab": {
          "base_uri": "https://localhost:8080/",
          "height": 283
        },
        "outputId": "d5033bf7-2bcf-4543-9132-ae1edeb0cf0e"
      },
      "source": [
        "x = []\n",
        "for i in range(1, 19, 1):\n",
        "    x.append(i)\n",
        "x = np.array(x)   \n",
        "\n",
        "y = np.array((df.Confirmed))\n",
        "\n",
        "plt.scatter(x, y, alpha = 0.3)\n",
        "x = np.array([np.ones(18), x]).T\n",
        "\n",
        "B = np.linalg.inv(x.T @ x) @ x.T @ y\n",
        "print(B)"
      ],
      "execution_count": 85,
      "outputs": [
        {
          "output_type": "stream",
          "text": [
            "[-94.25490196  18.88648091]\n"
          ],
          "name": "stdout"
        },
        {
          "output_type": "display_data",
          "data": {
            "image/png": "[encoded data removed]",
            "text/plain": [
              "<Figure size 432x288 with 1 Axes>"
            ]
          },
          "metadata": {
            "tags": []
          }
        }
      ]
    }
  ]
}